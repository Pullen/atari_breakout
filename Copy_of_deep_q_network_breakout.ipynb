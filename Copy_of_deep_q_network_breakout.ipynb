{
  "nbformat": 4,
  "nbformat_minor": 0,
  "metadata": {
    "colab": {
      "name": "Copy of deep_q_network_breakout",
      "provenance": [],
      "collapsed_sections": [],
      "include_colab_link": true
    },
    "kernelspec": {
      "display_name": "Python 3",
      "language": "python",
      "name": "python3"
    },
    "language_info": {
      "codemirror_mode": {
        "name": "ipython",
        "version": 3
      },
      "file_extension": ".py",
      "mimetype": "text/x-python",
      "name": "python",
      "nbconvert_exporter": "python",
      "pygments_lexer": "ipython3",
      "version": "3.7.0"
    }
  },
  "cells": [
    {
      "cell_type": "markdown",
      "metadata": {
        "id": "view-in-github",
        "colab_type": "text"
      },
      "source": [
        "<a href=\"https://colab.research.google.com/github/Pullen/atari_breakout/blob/main/Copy_of_deep_q_network_breakout.ipynb\" target=\"_parent\"><img src=\"https://colab.research.google.com/assets/colab-badge.svg\" alt=\"Open In Colab\"/></a>"
      ]
    },
    {
      "cell_type": "markdown",
      "metadata": {
        "id": "PH_nVQLkb3a4"
      },
      "source": [
        "# Deep Q-Learning for Atari Breakout\n",
        "\n",
        "**Author:** [Jacob Chapman](https://twitter.com/jacoblchapman) and [Mathias Lechner](https://twitter.com/MLech20)<br>\n",
        "**Date created:** 2020/05/23<br>\n",
        "**Last modified:** 2020/06/17<br>\n",
        "**Description:** Play Atari Breakout with a Deep Q-Network."
      ]
    },
    {
      "cell_type": "markdown",
      "metadata": {
        "id": "L7sCgrFJb3a9"
      },
      "source": [
        "## Introduction\n",
        "\n",
        "This script shows an implementation of Deep Q-Learning on the\n",
        "`BreakoutNoFrameskip-v4` environment.\n",
        "\n",
        "### Deep Q-Learning\n",
        "\n",
        "As an agent takes actions and moves through an environment, it learns to map\n",
        "the observed state of the environment to an action. An agent will choose an action\n",
        "in a given state based on a \"Q-value\", which is a weighted reward based on the\n",
        "expected highest long-term reward. A Q-Learning Agent learns to perform its\n",
        "task such that the recommended action maximizes the potential future rewards.\n",
        "This method is considered an \"Off-Policy\" method,\n",
        "meaning its Q values are updated assuming that the best action was chosen, even\n",
        "if the best action was not chosen.\n",
        "\n",
        "### Atari Breakout\n",
        "\n",
        "In this environment, a board moves along the bottom of the screen returning a ball that\n",
        "will destroy blocks at the top of the screen.\n",
        "The aim of the game is to remove all blocks and breakout of the\n",
        "level. The agent must learn to control the board by moving left and right, returning the\n",
        "ball and removing all the blocks without the ball passing the board.\n",
        "\n",
        "### Note\n",
        "\n",
        "The Deepmind paper trained for \"a total of 50 million frames (that is, around 38 days of\n",
        "game experience in total)\". However this script will give good results at around 10\n",
        "million frames which are processed in less than 24 hours on a modern machine.\n",
        "\n",
        "### References\n",
        "\n",
        "- [Q-Learning](https://link.springer.com/content/pdf/10.1007/BF00992698.pdf)\n",
        "- [Deep Q-Learning](https://deepmind.com/research/publications/human-level-control-through-deep-reinforcement-learning)"
      ]
    },
    {
      "cell_type": "markdown",
      "metadata": {
        "id": "Ypn4FqYKb3a-"
      },
      "source": [
        "## Setup"
      ]
    },
    {
      "cell_type": "code",
      "metadata": {
        "colab": {
          "base_uri": "https://localhost:8080/"
        },
        "id": "hRpNBpKMrBD_",
        "outputId": "4f4cf76e-1769-4496-d591-3a94b0972852"
      },
      "source": [
        "from google.colab import drive\n",
        "drive.mount('/content/drive')"
      ],
      "execution_count": 1,
      "outputs": [
        {
          "output_type": "stream",
          "name": "stdout",
          "text": [
            "Mounted at /content/drive\n"
          ]
        }
      ]
    },
    {
      "cell_type": "code",
      "metadata": {
        "colab": {
          "base_uri": "https://localhost:8080/"
        },
        "id": "0GeaYaVxrvMR",
        "outputId": "a7b0939b-36cb-42d9-8be5-5e518fb00f33"
      },
      "source": [
        "pip install h5py==2.10.0 ###  need <3.0 to have current code work for saving and loading of weights\n"
      ],
      "execution_count": 3,
      "outputs": [
        {
          "output_type": "stream",
          "name": "stdout",
          "text": [
            "Collecting h5py==2.10.0\n",
            "  Downloading h5py-2.10.0-cp37-cp37m-manylinux1_x86_64.whl (2.9 MB)\n",
            "\u001b[K     |████████████████████████████████| 2.9 MB 9.1 MB/s \n",
            "\u001b[?25hRequirement already satisfied: six in /usr/local/lib/python3.7/dist-packages (from h5py==2.10.0) (1.15.0)\n",
            "Requirement already satisfied: numpy>=1.7 in /usr/local/lib/python3.7/dist-packages (from h5py==2.10.0) (1.19.5)\n",
            "Installing collected packages: h5py\n",
            "  Attempting uninstall: h5py\n",
            "    Found existing installation: h5py 3.1.0\n",
            "    Uninstalling h5py-3.1.0:\n",
            "      Successfully uninstalled h5py-3.1.0\n",
            "Successfully installed h5py-2.10.0\n"
          ]
        }
      ]
    },
    {
      "cell_type": "code",
      "metadata": {
        "id": "De66jgvLhAtR"
      },
      "source": [
        "#!pip install baselines #mujoco breaks"
      ],
      "execution_count": null,
      "outputs": []
    },
    {
      "cell_type": "code",
      "metadata": {
        "colab": {
          "base_uri": "https://localhost:8080/"
        },
        "id": "rkjfLvrwiMW9",
        "outputId": "968585dd-cd9f-4c3e-a45b-d471881ce518"
      },
      "source": [
        "!git clone https://github.com/openai/baselines.git\n"
      ],
      "execution_count": 2,
      "outputs": [
        {
          "output_type": "stream",
          "name": "stdout",
          "text": [
            "Cloning into 'baselines'...\n",
            "remote: Enumerating objects: 3627, done.\u001b[K\n",
            "remote: Total 3627 (delta 0), reused 0 (delta 0), pack-reused 3627\u001b[K\n",
            "Receiving objects: 100% (3627/3627), 6.46 MiB | 14.38 MiB/s, done.\n",
            "Resolving deltas: 100% (2429/2429), done.\n"
          ]
        }
      ]
    },
    {
      "cell_type": "code",
      "metadata": {
        "colab": {
          "base_uri": "https://localhost:8080/"
        },
        "id": "H7hQae5ko8P8",
        "outputId": "3cf237c5-4a10-4048-e8d3-8b251a1d64d8"
      },
      "source": [
        "cd baselines"
      ],
      "execution_count": 3,
      "outputs": [
        {
          "output_type": "stream",
          "name": "stdout",
          "text": [
            "/content/baselines\n"
          ]
        }
      ]
    },
    {
      "cell_type": "code",
      "metadata": {
        "colab": {
          "base_uri": "https://localhost:8080/"
        },
        "id": "whdpkZVkia2c",
        "outputId": "99de144f-7802-42f3-83ff-b92319c8e6f0"
      },
      "source": [
        "!python setup.py install\n"
      ],
      "execution_count": 4,
      "outputs": [
        {
          "output_type": "stream",
          "name": "stdout",
          "text": [
            "running install\n",
            "running bdist_egg\n",
            "running egg_info\n",
            "creating baselines.egg-info\n",
            "writing baselines.egg-info/PKG-INFO\n",
            "writing dependency_links to baselines.egg-info/dependency_links.txt\n",
            "writing requirements to baselines.egg-info/requires.txt\n",
            "writing top-level names to baselines.egg-info/top_level.txt\n",
            "writing manifest file 'baselines.egg-info/SOURCES.txt'\n",
            "adding license file 'LICENSE'\n",
            "writing manifest file 'baselines.egg-info/SOURCES.txt'\n",
            "installing library code to build/bdist.linux-x86_64/egg\n",
            "running install_lib\n",
            "running build_py\n",
            "creating build\n",
            "creating build/lib\n",
            "creating build/lib/baselines\n",
            "copying baselines/results_plotter.py -> build/lib/baselines\n",
            "copying baselines/run.py -> build/lib/baselines\n",
            "copying baselines/logger.py -> build/lib/baselines\n",
            "copying baselines/__init__.py -> build/lib/baselines\n",
            "creating build/lib/baselines/acer\n",
            "copying baselines/acer/runner.py -> build/lib/baselines/acer\n",
            "copying baselines/acer/policies.py -> build/lib/baselines/acer\n",
            "copying baselines/acer/acer.py -> build/lib/baselines/acer\n",
            "copying baselines/acer/buffer.py -> build/lib/baselines/acer\n",
            "copying baselines/acer/__init__.py -> build/lib/baselines/acer\n",
            "copying baselines/acer/defaults.py -> build/lib/baselines/acer\n",
            "creating build/lib/baselines/ppo1\n",
            "copying baselines/ppo1/pposgd_simple.py -> build/lib/baselines/ppo1\n",
            "copying baselines/ppo1/run_mujoco.py -> build/lib/baselines/ppo1\n",
            "copying baselines/ppo1/run_robotics.py -> build/lib/baselines/ppo1\n",
            "copying baselines/ppo1/cnn_policy.py -> build/lib/baselines/ppo1\n",
            "copying baselines/ppo1/run_atari.py -> build/lib/baselines/ppo1\n",
            "copying baselines/ppo1/__init__.py -> build/lib/baselines/ppo1\n",
            "copying baselines/ppo1/run_humanoid.py -> build/lib/baselines/ppo1\n",
            "copying baselines/ppo1/mlp_policy.py -> build/lib/baselines/ppo1\n",
            "creating build/lib/baselines/a2c\n",
            "copying baselines/a2c/runner.py -> build/lib/baselines/a2c\n",
            "copying baselines/a2c/a2c.py -> build/lib/baselines/a2c\n",
            "copying baselines/a2c/utils.py -> build/lib/baselines/a2c\n",
            "copying baselines/a2c/__init__.py -> build/lib/baselines/a2c\n",
            "creating build/lib/baselines/acktr\n",
            "copying baselines/acktr/acktr.py -> build/lib/baselines/acktr\n",
            "copying baselines/acktr/kfac.py -> build/lib/baselines/acktr\n",
            "copying baselines/acktr/utils.py -> build/lib/baselines/acktr\n",
            "copying baselines/acktr/kfac_utils.py -> build/lib/baselines/acktr\n",
            "copying baselines/acktr/__init__.py -> build/lib/baselines/acktr\n",
            "copying baselines/acktr/defaults.py -> build/lib/baselines/acktr\n",
            "creating build/lib/baselines/trpo_mpi\n",
            "copying baselines/trpo_mpi/trpo_mpi.py -> build/lib/baselines/trpo_mpi\n",
            "copying baselines/trpo_mpi/__init__.py -> build/lib/baselines/trpo_mpi\n",
            "copying baselines/trpo_mpi/defaults.py -> build/lib/baselines/trpo_mpi\n",
            "creating build/lib/baselines/gail\n",
            "copying baselines/gail/behavior_clone.py -> build/lib/baselines/gail\n",
            "copying baselines/gail/run_mujoco.py -> build/lib/baselines/gail\n",
            "copying baselines/gail/adversary.py -> build/lib/baselines/gail\n",
            "copying baselines/gail/statistics.py -> build/lib/baselines/gail\n",
            "copying baselines/gail/trpo_mpi.py -> build/lib/baselines/gail\n",
            "copying baselines/gail/gail-eval.py -> build/lib/baselines/gail\n",
            "copying baselines/gail/__init__.py -> build/lib/baselines/gail\n",
            "copying baselines/gail/mlp_policy.py -> build/lib/baselines/gail\n",
            "creating build/lib/baselines/bench\n",
            "copying baselines/bench/monitor.py -> build/lib/baselines/bench\n",
            "copying baselines/bench/test_monitor.py -> build/lib/baselines/bench\n",
            "copying baselines/bench/benchmarks.py -> build/lib/baselines/bench\n",
            "copying baselines/bench/__init__.py -> build/lib/baselines/bench\n",
            "creating build/lib/baselines/deepq\n",
            "copying baselines/deepq/build_graph.py -> build/lib/baselines/deepq\n",
            "copying baselines/deepq/utils.py -> build/lib/baselines/deepq\n",
            "copying baselines/deepq/models.py -> build/lib/baselines/deepq\n",
            "copying baselines/deepq/replay_buffer.py -> build/lib/baselines/deepq\n",
            "copying baselines/deepq/deepq.py -> build/lib/baselines/deepq\n",
            "copying baselines/deepq/__init__.py -> build/lib/baselines/deepq\n",
            "copying baselines/deepq/defaults.py -> build/lib/baselines/deepq\n",
            "creating build/lib/baselines/common\n",
            "copying baselines/common/segment_tree.py -> build/lib/baselines/common\n",
            "copying baselines/common/tile_images.py -> build/lib/baselines/common\n",
            "copying baselines/common/tf_util.py -> build/lib/baselines/common\n",
            "copying baselines/common/distributions.py -> build/lib/baselines/common\n",
            "copying baselines/common/retro_wrappers.py -> build/lib/baselines/common\n",
            "copying baselines/common/schedules.py -> build/lib/baselines/common\n",
            "copying baselines/common/cmd_util.py -> build/lib/baselines/common\n",
            "copying baselines/common/test_mpi_util.py -> build/lib/baselines/common\n",
            "copying baselines/common/cg.py -> build/lib/baselines/common\n",
            "copying baselines/common/atari_wrappers.py -> build/lib/baselines/common\n",
            "copying baselines/common/misc_util.py -> build/lib/baselines/common\n",
            "copying baselines/common/mpi_adam.py -> build/lib/baselines/common\n",
            "copying baselines/common/plot_util.py -> build/lib/baselines/common\n",
            "copying baselines/common/policies.py -> build/lib/baselines/common\n",
            "copying baselines/common/models.py -> build/lib/baselines/common\n",
            "copying baselines/common/math_util.py -> build/lib/baselines/common\n",
            "copying baselines/common/running_mean_std.py -> build/lib/baselines/common\n",
            "copying baselines/common/input.py -> build/lib/baselines/common\n",
            "copying baselines/common/mpi_running_mean_std.py -> build/lib/baselines/common\n",
            "copying baselines/common/mpi_moments.py -> build/lib/baselines/common\n",
            "copying baselines/common/console_util.py -> build/lib/baselines/common\n",
            "copying baselines/common/mpi_adam_optimizer.py -> build/lib/baselines/common\n",
            "copying baselines/common/mpi_util.py -> build/lib/baselines/common\n",
            "copying baselines/common/wrappers.py -> build/lib/baselines/common\n",
            "copying baselines/common/mpi_fork.py -> build/lib/baselines/common\n",
            "copying baselines/common/__init__.py -> build/lib/baselines/common\n",
            "copying baselines/common/dataset.py -> build/lib/baselines/common\n",
            "copying baselines/common/runners.py -> build/lib/baselines/common\n",
            "creating build/lib/baselines/her\n",
            "copying baselines/her/normalizer.py -> build/lib/baselines/her\n",
            "copying baselines/her/her_sampler.py -> build/lib/baselines/her\n",
            "copying baselines/her/util.py -> build/lib/baselines/her\n",
            "copying baselines/her/replay_buffer.py -> build/lib/baselines/her\n",
            "copying baselines/her/ddpg.py -> build/lib/baselines/her\n",
            "copying baselines/her/actor_critic.py -> build/lib/baselines/her\n",
            "copying baselines/her/rollout.py -> build/lib/baselines/her\n",
            "copying baselines/her/__init__.py -> build/lib/baselines/her\n",
            "copying baselines/her/her.py -> build/lib/baselines/her\n",
            "creating build/lib/baselines/ppo2\n",
            "copying baselines/ppo2/runner.py -> build/lib/baselines/ppo2\n",
            "copying baselines/ppo2/model.py -> build/lib/baselines/ppo2\n",
            "copying baselines/ppo2/ppo2.py -> build/lib/baselines/ppo2\n",
            "copying baselines/ppo2/microbatched_model.py -> build/lib/baselines/ppo2\n",
            "copying baselines/ppo2/__init__.py -> build/lib/baselines/ppo2\n",
            "copying baselines/ppo2/test_microbatches.py -> build/lib/baselines/ppo2\n",
            "copying baselines/ppo2/defaults.py -> build/lib/baselines/ppo2\n",
            "creating build/lib/baselines/ddpg\n",
            "copying baselines/ddpg/test_smoke.py -> build/lib/baselines/ddpg\n",
            "copying baselines/ddpg/models.py -> build/lib/baselines/ddpg\n",
            "copying baselines/ddpg/ddpg.py -> build/lib/baselines/ddpg\n",
            "copying baselines/ddpg/memory.py -> build/lib/baselines/ddpg\n",
            "copying baselines/ddpg/__init__.py -> build/lib/baselines/ddpg\n",
            "copying baselines/ddpg/ddpg_learner.py -> build/lib/baselines/ddpg\n",
            "copying baselines/ddpg/noise.py -> build/lib/baselines/ddpg\n",
            "creating build/lib/baselines/gail/dataset\n",
            "copying baselines/gail/dataset/mujoco_dset.py -> build/lib/baselines/gail/dataset\n",
            "copying baselines/gail/dataset/__init__.py -> build/lib/baselines/gail/dataset\n",
            "creating build/lib/baselines/deepq/experiments\n",
            "copying baselines/deepq/experiments/enjoy_mountaincar.py -> build/lib/baselines/deepq/experiments\n",
            "copying baselines/deepq/experiments/enjoy_pong.py -> build/lib/baselines/deepq/experiments\n",
            "copying baselines/deepq/experiments/train_pong.py -> build/lib/baselines/deepq/experiments\n",
            "copying baselines/deepq/experiments/enjoy_cartpole.py -> build/lib/baselines/deepq/experiments\n",
            "copying baselines/deepq/experiments/custom_cartpole.py -> build/lib/baselines/deepq/experiments\n",
            "copying baselines/deepq/experiments/__init__.py -> build/lib/baselines/deepq/experiments\n",
            "copying baselines/deepq/experiments/train_mountaincar.py -> build/lib/baselines/deepq/experiments\n",
            "copying baselines/deepq/experiments/train_cartpole.py -> build/lib/baselines/deepq/experiments\n",
            "creating build/lib/baselines/common/vec_env\n",
            "copying baselines/common/vec_env/test_vec_env.py -> build/lib/baselines/common/vec_env\n",
            "copying baselines/common/vec_env/dummy_vec_env.py -> build/lib/baselines/common/vec_env\n",
            "copying baselines/common/vec_env/util.py -> build/lib/baselines/common/vec_env\n",
            "copying baselines/common/vec_env/vec_monitor.py -> build/lib/baselines/common/vec_env\n",
            "copying baselines/common/vec_env/subproc_vec_env.py -> build/lib/baselines/common/vec_env\n",
            "copying baselines/common/vec_env/vec_video_recorder.py -> build/lib/baselines/common/vec_env\n",
            "copying baselines/common/vec_env/vec_frame_stack.py -> build/lib/baselines/common/vec_env\n",
            "copying baselines/common/vec_env/vec_env.py -> build/lib/baselines/common/vec_env\n",
            "copying baselines/common/vec_env/vec_normalize.py -> build/lib/baselines/common/vec_env\n",
            "copying baselines/common/vec_env/vec_remove_dict_obs.py -> build/lib/baselines/common/vec_env\n",
            "copying baselines/common/vec_env/shmem_vec_env.py -> build/lib/baselines/common/vec_env\n",
            "copying baselines/common/vec_env/test_video_recorder.py -> build/lib/baselines/common/vec_env\n",
            "copying baselines/common/vec_env/__init__.py -> build/lib/baselines/common/vec_env\n",
            "creating build/lib/baselines/common/tests\n",
            "copying baselines/common/tests/test_env_after_learn.py -> build/lib/baselines/common/tests\n",
            "copying baselines/common/tests/test_mnist.py -> build/lib/baselines/common/tests\n",
            "copying baselines/common/tests/test_serialization.py -> build/lib/baselines/common/tests\n",
            "copying baselines/common/tests/test_with_mpi.py -> build/lib/baselines/common/tests\n",
            "copying baselines/common/tests/util.py -> build/lib/baselines/common/tests\n",
            "copying baselines/common/tests/test_cartpole.py -> build/lib/baselines/common/tests\n",
            "copying baselines/common/tests/test_schedules.py -> build/lib/baselines/common/tests\n",
            "copying baselines/common/tests/test_identity.py -> build/lib/baselines/common/tests\n",
            "copying baselines/common/tests/test_doc_examples.py -> build/lib/baselines/common/tests\n",
            "copying baselines/common/tests/test_segment_tree.py -> build/lib/baselines/common/tests\n",
            "copying baselines/common/tests/test_plot_util.py -> build/lib/baselines/common/tests\n",
            "copying baselines/common/tests/test_fetchreach.py -> build/lib/baselines/common/tests\n",
            "copying baselines/common/tests/test_fixed_sequence.py -> build/lib/baselines/common/tests\n",
            "copying baselines/common/tests/test_tf_util.py -> build/lib/baselines/common/tests\n",
            "copying baselines/common/tests/__init__.py -> build/lib/baselines/common/tests\n",
            "creating build/lib/baselines/common/tests/envs\n",
            "copying baselines/common/tests/envs/identity_env.py -> build/lib/baselines/common/tests/envs\n",
            "copying baselines/common/tests/envs/identity_env_test.py -> build/lib/baselines/common/tests/envs\n",
            "copying baselines/common/tests/envs/mnist_env.py -> build/lib/baselines/common/tests/envs\n",
            "copying baselines/common/tests/envs/fixed_sequence_env.py -> build/lib/baselines/common/tests/envs\n",
            "copying baselines/common/tests/envs/__init__.py -> build/lib/baselines/common/tests/envs\n",
            "creating build/lib/baselines/her/experiment\n",
            "copying baselines/her/experiment/play.py -> build/lib/baselines/her/experiment\n",
            "copying baselines/her/experiment/config.py -> build/lib/baselines/her/experiment\n",
            "copying baselines/her/experiment/plot.py -> build/lib/baselines/her/experiment\n",
            "copying baselines/her/experiment/__init__.py -> build/lib/baselines/her/experiment\n",
            "creating build/bdist.linux-x86_64\n",
            "creating build/bdist.linux-x86_64/egg\n",
            "creating build/bdist.linux-x86_64/egg/baselines\n",
            "creating build/bdist.linux-x86_64/egg/baselines/acer\n",
            "copying build/lib/baselines/acer/runner.py -> build/bdist.linux-x86_64/egg/baselines/acer\n",
            "copying build/lib/baselines/acer/policies.py -> build/bdist.linux-x86_64/egg/baselines/acer\n",
            "copying build/lib/baselines/acer/acer.py -> build/bdist.linux-x86_64/egg/baselines/acer\n",
            "copying build/lib/baselines/acer/buffer.py -> build/bdist.linux-x86_64/egg/baselines/acer\n",
            "copying build/lib/baselines/acer/__init__.py -> build/bdist.linux-x86_64/egg/baselines/acer\n",
            "copying build/lib/baselines/acer/defaults.py -> build/bdist.linux-x86_64/egg/baselines/acer\n",
            "copying build/lib/baselines/results_plotter.py -> build/bdist.linux-x86_64/egg/baselines\n",
            "copying build/lib/baselines/run.py -> build/bdist.linux-x86_64/egg/baselines\n",
            "creating build/bdist.linux-x86_64/egg/baselines/ppo1\n",
            "copying build/lib/baselines/ppo1/pposgd_simple.py -> build/bdist.linux-x86_64/egg/baselines/ppo1\n",
            "copying build/lib/baselines/ppo1/run_mujoco.py -> build/bdist.linux-x86_64/egg/baselines/ppo1\n",
            "copying build/lib/baselines/ppo1/run_robotics.py -> build/bdist.linux-x86_64/egg/baselines/ppo1\n",
            "copying build/lib/baselines/ppo1/cnn_policy.py -> build/bdist.linux-x86_64/egg/baselines/ppo1\n",
            "copying build/lib/baselines/ppo1/run_atari.py -> build/bdist.linux-x86_64/egg/baselines/ppo1\n",
            "copying build/lib/baselines/ppo1/__init__.py -> build/bdist.linux-x86_64/egg/baselines/ppo1\n",
            "copying build/lib/baselines/ppo1/run_humanoid.py -> build/bdist.linux-x86_64/egg/baselines/ppo1\n",
            "copying build/lib/baselines/ppo1/mlp_policy.py -> build/bdist.linux-x86_64/egg/baselines/ppo1\n",
            "creating build/bdist.linux-x86_64/egg/baselines/a2c\n",
            "copying build/lib/baselines/a2c/runner.py -> build/bdist.linux-x86_64/egg/baselines/a2c\n",
            "copying build/lib/baselines/a2c/a2c.py -> build/bdist.linux-x86_64/egg/baselines/a2c\n",
            "copying build/lib/baselines/a2c/utils.py -> build/bdist.linux-x86_64/egg/baselines/a2c\n",
            "copying build/lib/baselines/a2c/__init__.py -> build/bdist.linux-x86_64/egg/baselines/a2c\n",
            "creating build/bdist.linux-x86_64/egg/baselines/acktr\n",
            "copying build/lib/baselines/acktr/acktr.py -> build/bdist.linux-x86_64/egg/baselines/acktr\n",
            "copying build/lib/baselines/acktr/kfac.py -> build/bdist.linux-x86_64/egg/baselines/acktr\n",
            "copying build/lib/baselines/acktr/utils.py -> build/bdist.linux-x86_64/egg/baselines/acktr\n",
            "copying build/lib/baselines/acktr/kfac_utils.py -> build/bdist.linux-x86_64/egg/baselines/acktr\n",
            "copying build/lib/baselines/acktr/__init__.py -> build/bdist.linux-x86_64/egg/baselines/acktr\n",
            "copying build/lib/baselines/acktr/defaults.py -> build/bdist.linux-x86_64/egg/baselines/acktr\n",
            "creating build/bdist.linux-x86_64/egg/baselines/trpo_mpi\n",
            "copying build/lib/baselines/trpo_mpi/trpo_mpi.py -> build/bdist.linux-x86_64/egg/baselines/trpo_mpi\n",
            "copying build/lib/baselines/trpo_mpi/__init__.py -> build/bdist.linux-x86_64/egg/baselines/trpo_mpi\n",
            "copying build/lib/baselines/trpo_mpi/defaults.py -> build/bdist.linux-x86_64/egg/baselines/trpo_mpi\n",
            "creating build/bdist.linux-x86_64/egg/baselines/gail\n",
            "copying build/lib/baselines/gail/behavior_clone.py -> build/bdist.linux-x86_64/egg/baselines/gail\n",
            "copying build/lib/baselines/gail/run_mujoco.py -> build/bdist.linux-x86_64/egg/baselines/gail\n",
            "copying build/lib/baselines/gail/adversary.py -> build/bdist.linux-x86_64/egg/baselines/gail\n",
            "copying build/lib/baselines/gail/statistics.py -> build/bdist.linux-x86_64/egg/baselines/gail\n",
            "copying build/lib/baselines/gail/trpo_mpi.py -> build/bdist.linux-x86_64/egg/baselines/gail\n",
            "copying build/lib/baselines/gail/gail-eval.py -> build/bdist.linux-x86_64/egg/baselines/gail\n",
            "creating build/bdist.linux-x86_64/egg/baselines/gail/dataset\n",
            "copying build/lib/baselines/gail/dataset/mujoco_dset.py -> build/bdist.linux-x86_64/egg/baselines/gail/dataset\n",
            "copying build/lib/baselines/gail/dataset/__init__.py -> build/bdist.linux-x86_64/egg/baselines/gail/dataset\n",
            "copying build/lib/baselines/gail/__init__.py -> build/bdist.linux-x86_64/egg/baselines/gail\n",
            "copying build/lib/baselines/gail/mlp_policy.py -> build/bdist.linux-x86_64/egg/baselines/gail\n",
            "creating build/bdist.linux-x86_64/egg/baselines/bench\n",
            "copying build/lib/baselines/bench/monitor.py -> build/bdist.linux-x86_64/egg/baselines/bench\n",
            "copying build/lib/baselines/bench/test_monitor.py -> build/bdist.linux-x86_64/egg/baselines/bench\n",
            "copying build/lib/baselines/bench/benchmarks.py -> build/bdist.linux-x86_64/egg/baselines/bench\n",
            "copying build/lib/baselines/bench/__init__.py -> build/bdist.linux-x86_64/egg/baselines/bench\n",
            "creating build/bdist.linux-x86_64/egg/baselines/deepq\n",
            "copying build/lib/baselines/deepq/build_graph.py -> build/bdist.linux-x86_64/egg/baselines/deepq\n",
            "copying build/lib/baselines/deepq/utils.py -> build/bdist.linux-x86_64/egg/baselines/deepq\n",
            "creating build/bdist.linux-x86_64/egg/baselines/deepq/experiments\n",
            "copying build/lib/baselines/deepq/experiments/enjoy_mountaincar.py -> build/bdist.linux-x86_64/egg/baselines/deepq/experiments\n",
            "copying build/lib/baselines/deepq/experiments/enjoy_pong.py -> build/bdist.linux-x86_64/egg/baselines/deepq/experiments\n",
            "copying build/lib/baselines/deepq/experiments/train_pong.py -> build/bdist.linux-x86_64/egg/baselines/deepq/experiments\n",
            "copying build/lib/baselines/deepq/experiments/enjoy_cartpole.py -> build/bdist.linux-x86_64/egg/baselines/deepq/experiments\n",
            "copying build/lib/baselines/deepq/experiments/custom_cartpole.py -> build/bdist.linux-x86_64/egg/baselines/deepq/experiments\n",
            "copying build/lib/baselines/deepq/experiments/__init__.py -> build/bdist.linux-x86_64/egg/baselines/deepq/experiments\n",
            "copying build/lib/baselines/deepq/experiments/train_mountaincar.py -> build/bdist.linux-x86_64/egg/baselines/deepq/experiments\n",
            "copying build/lib/baselines/deepq/experiments/train_cartpole.py -> build/bdist.linux-x86_64/egg/baselines/deepq/experiments\n",
            "copying build/lib/baselines/deepq/models.py -> build/bdist.linux-x86_64/egg/baselines/deepq\n",
            "copying build/lib/baselines/deepq/replay_buffer.py -> build/bdist.linux-x86_64/egg/baselines/deepq\n",
            "copying build/lib/baselines/deepq/deepq.py -> build/bdist.linux-x86_64/egg/baselines/deepq\n",
            "copying build/lib/baselines/deepq/__init__.py -> build/bdist.linux-x86_64/egg/baselines/deepq\n",
            "copying build/lib/baselines/deepq/defaults.py -> build/bdist.linux-x86_64/egg/baselines/deepq\n",
            "copying build/lib/baselines/logger.py -> build/bdist.linux-x86_64/egg/baselines\n",
            "creating build/bdist.linux-x86_64/egg/baselines/common\n",
            "copying build/lib/baselines/common/segment_tree.py -> build/bdist.linux-x86_64/egg/baselines/common\n",
            "copying build/lib/baselines/common/tile_images.py -> build/bdist.linux-x86_64/egg/baselines/common\n",
            "copying build/lib/baselines/common/tf_util.py -> build/bdist.linux-x86_64/egg/baselines/common\n",
            "copying build/lib/baselines/common/distributions.py -> build/bdist.linux-x86_64/egg/baselines/common\n",
            "copying build/lib/baselines/common/retro_wrappers.py -> build/bdist.linux-x86_64/egg/baselines/common\n",
            "copying build/lib/baselines/common/schedules.py -> build/bdist.linux-x86_64/egg/baselines/common\n",
            "copying build/lib/baselines/common/cmd_util.py -> build/bdist.linux-x86_64/egg/baselines/common\n",
            "copying build/lib/baselines/common/test_mpi_util.py -> build/bdist.linux-x86_64/egg/baselines/common\n",
            "copying build/lib/baselines/common/cg.py -> build/bdist.linux-x86_64/egg/baselines/common\n",
            "copying build/lib/baselines/common/atari_wrappers.py -> build/bdist.linux-x86_64/egg/baselines/common\n",
            "copying build/lib/baselines/common/misc_util.py -> build/bdist.linux-x86_64/egg/baselines/common\n",
            "copying build/lib/baselines/common/mpi_adam.py -> build/bdist.linux-x86_64/egg/baselines/common\n",
            "copying build/lib/baselines/common/plot_util.py -> build/bdist.linux-x86_64/egg/baselines/common\n",
            "copying build/lib/baselines/common/policies.py -> build/bdist.linux-x86_64/egg/baselines/common\n",
            "copying build/lib/baselines/common/models.py -> build/bdist.linux-x86_64/egg/baselines/common\n",
            "copying build/lib/baselines/common/math_util.py -> build/bdist.linux-x86_64/egg/baselines/common\n",
            "copying build/lib/baselines/common/running_mean_std.py -> build/bdist.linux-x86_64/egg/baselines/common\n",
            "copying build/lib/baselines/common/input.py -> build/bdist.linux-x86_64/egg/baselines/common\n",
            "creating build/bdist.linux-x86_64/egg/baselines/common/vec_env\n",
            "copying build/lib/baselines/common/vec_env/test_vec_env.py -> build/bdist.linux-x86_64/egg/baselines/common/vec_env\n",
            "copying build/lib/baselines/common/vec_env/dummy_vec_env.py -> build/bdist.linux-x86_64/egg/baselines/common/vec_env\n",
            "copying build/lib/baselines/common/vec_env/util.py -> build/bdist.linux-x86_64/egg/baselines/common/vec_env\n",
            "copying build/lib/baselines/common/vec_env/vec_monitor.py -> build/bdist.linux-x86_64/egg/baselines/common/vec_env\n",
            "copying build/lib/baselines/common/vec_env/subproc_vec_env.py -> build/bdist.linux-x86_64/egg/baselines/common/vec_env\n",
            "copying build/lib/baselines/common/vec_env/vec_video_recorder.py -> build/bdist.linux-x86_64/egg/baselines/common/vec_env\n",
            "copying build/lib/baselines/common/vec_env/vec_frame_stack.py -> build/bdist.linux-x86_64/egg/baselines/common/vec_env\n",
            "copying build/lib/baselines/common/vec_env/vec_env.py -> build/bdist.linux-x86_64/egg/baselines/common/vec_env\n",
            "copying build/lib/baselines/common/vec_env/vec_normalize.py -> build/bdist.linux-x86_64/egg/baselines/common/vec_env\n",
            "copying build/lib/baselines/common/vec_env/vec_remove_dict_obs.py -> build/bdist.linux-x86_64/egg/baselines/common/vec_env\n",
            "copying build/lib/baselines/common/vec_env/shmem_vec_env.py -> build/bdist.linux-x86_64/egg/baselines/common/vec_env\n",
            "copying build/lib/baselines/common/vec_env/test_video_recorder.py -> build/bdist.linux-x86_64/egg/baselines/common/vec_env\n",
            "copying build/lib/baselines/common/vec_env/__init__.py -> build/bdist.linux-x86_64/egg/baselines/common/vec_env\n",
            "copying build/lib/baselines/common/mpi_running_mean_std.py -> build/bdist.linux-x86_64/egg/baselines/common\n",
            "copying build/lib/baselines/common/mpi_moments.py -> build/bdist.linux-x86_64/egg/baselines/common\n",
            "copying build/lib/baselines/common/console_util.py -> build/bdist.linux-x86_64/egg/baselines/common\n",
            "copying build/lib/baselines/common/mpi_adam_optimizer.py -> build/bdist.linux-x86_64/egg/baselines/common\n",
            "copying build/lib/baselines/common/mpi_util.py -> build/bdist.linux-x86_64/egg/baselines/common\n",
            "copying build/lib/baselines/common/wrappers.py -> build/bdist.linux-x86_64/egg/baselines/common\n",
            "copying build/lib/baselines/common/mpi_fork.py -> build/bdist.linux-x86_64/egg/baselines/common\n",
            "copying build/lib/baselines/common/__init__.py -> build/bdist.linux-x86_64/egg/baselines/common\n",
            "copying build/lib/baselines/common/dataset.py -> build/bdist.linux-x86_64/egg/baselines/common\n",
            "creating build/bdist.linux-x86_64/egg/baselines/common/tests\n",
            "copying build/lib/baselines/common/tests/test_env_after_learn.py -> build/bdist.linux-x86_64/egg/baselines/common/tests\n",
            "copying build/lib/baselines/common/tests/test_mnist.py -> build/bdist.linux-x86_64/egg/baselines/common/tests\n",
            "copying build/lib/baselines/common/tests/test_serialization.py -> build/bdist.linux-x86_64/egg/baselines/common/tests\n",
            "copying build/lib/baselines/common/tests/test_with_mpi.py -> build/bdist.linux-x86_64/egg/baselines/common/tests\n",
            "copying build/lib/baselines/common/tests/util.py -> build/bdist.linux-x86_64/egg/baselines/common/tests\n",
            "copying build/lib/baselines/common/tests/test_cartpole.py -> build/bdist.linux-x86_64/egg/baselines/common/tests\n",
            "copying build/lib/baselines/common/tests/test_schedules.py -> build/bdist.linux-x86_64/egg/baselines/common/tests\n",
            "copying build/lib/baselines/common/tests/test_identity.py -> build/bdist.linux-x86_64/egg/baselines/common/tests\n",
            "copying build/lib/baselines/common/tests/test_doc_examples.py -> build/bdist.linux-x86_64/egg/baselines/common/tests\n",
            "copying build/lib/baselines/common/tests/test_segment_tree.py -> build/bdist.linux-x86_64/egg/baselines/common/tests\n",
            "copying build/lib/baselines/common/tests/test_plot_util.py -> build/bdist.linux-x86_64/egg/baselines/common/tests\n",
            "copying build/lib/baselines/common/tests/test_fetchreach.py -> build/bdist.linux-x86_64/egg/baselines/common/tests\n",
            "copying build/lib/baselines/common/tests/test_fixed_sequence.py -> build/bdist.linux-x86_64/egg/baselines/common/tests\n",
            "copying build/lib/baselines/common/tests/test_tf_util.py -> build/bdist.linux-x86_64/egg/baselines/common/tests\n",
            "creating build/bdist.linux-x86_64/egg/baselines/common/tests/envs\n",
            "copying build/lib/baselines/common/tests/envs/identity_env.py -> build/bdist.linux-x86_64/egg/baselines/common/tests/envs\n",
            "copying build/lib/baselines/common/tests/envs/identity_env_test.py -> build/bdist.linux-x86_64/egg/baselines/common/tests/envs\n",
            "copying build/lib/baselines/common/tests/envs/mnist_env.py -> build/bdist.linux-x86_64/egg/baselines/common/tests/envs\n",
            "copying build/lib/baselines/common/tests/envs/fixed_sequence_env.py -> build/bdist.linux-x86_64/egg/baselines/common/tests/envs\n",
            "copying build/lib/baselines/common/tests/envs/__init__.py -> build/bdist.linux-x86_64/egg/baselines/common/tests/envs\n",
            "copying build/lib/baselines/common/tests/__init__.py -> build/bdist.linux-x86_64/egg/baselines/common/tests\n",
            "copying build/lib/baselines/common/runners.py -> build/bdist.linux-x86_64/egg/baselines/common\n",
            "creating build/bdist.linux-x86_64/egg/baselines/her\n",
            "copying build/lib/baselines/her/normalizer.py -> build/bdist.linux-x86_64/egg/baselines/her\n",
            "copying build/lib/baselines/her/her_sampler.py -> build/bdist.linux-x86_64/egg/baselines/her\n",
            "copying build/lib/baselines/her/util.py -> build/bdist.linux-x86_64/egg/baselines/her\n",
            "copying build/lib/baselines/her/replay_buffer.py -> build/bdist.linux-x86_64/egg/baselines/her\n",
            "copying build/lib/baselines/her/ddpg.py -> build/bdist.linux-x86_64/egg/baselines/her\n",
            "creating build/bdist.linux-x86_64/egg/baselines/her/experiment\n",
            "copying build/lib/baselines/her/experiment/play.py -> build/bdist.linux-x86_64/egg/baselines/her/experiment\n",
            "copying build/lib/baselines/her/experiment/config.py -> build/bdist.linux-x86_64/egg/baselines/her/experiment\n",
            "copying build/lib/baselines/her/experiment/plot.py -> build/bdist.linux-x86_64/egg/baselines/her/experiment\n",
            "copying build/lib/baselines/her/experiment/__init__.py -> build/bdist.linux-x86_64/egg/baselines/her/experiment\n",
            "copying build/lib/baselines/her/actor_critic.py -> build/bdist.linux-x86_64/egg/baselines/her\n",
            "copying build/lib/baselines/her/rollout.py -> build/bdist.linux-x86_64/egg/baselines/her\n",
            "copying build/lib/baselines/her/__init__.py -> build/bdist.linux-x86_64/egg/baselines/her\n",
            "copying build/lib/baselines/her/her.py -> build/bdist.linux-x86_64/egg/baselines/her\n",
            "copying build/lib/baselines/__init__.py -> build/bdist.linux-x86_64/egg/baselines\n",
            "creating build/bdist.linux-x86_64/egg/baselines/ppo2\n",
            "copying build/lib/baselines/ppo2/runner.py -> build/bdist.linux-x86_64/egg/baselines/ppo2\n",
            "copying build/lib/baselines/ppo2/model.py -> build/bdist.linux-x86_64/egg/baselines/ppo2\n",
            "copying build/lib/baselines/ppo2/ppo2.py -> build/bdist.linux-x86_64/egg/baselines/ppo2\n",
            "copying build/lib/baselines/ppo2/microbatched_model.py -> build/bdist.linux-x86_64/egg/baselines/ppo2\n",
            "copying build/lib/baselines/ppo2/__init__.py -> build/bdist.linux-x86_64/egg/baselines/ppo2\n",
            "copying build/lib/baselines/ppo2/test_microbatches.py -> build/bdist.linux-x86_64/egg/baselines/ppo2\n",
            "copying build/lib/baselines/ppo2/defaults.py -> build/bdist.linux-x86_64/egg/baselines/ppo2\n",
            "creating build/bdist.linux-x86_64/egg/baselines/ddpg\n",
            "copying build/lib/baselines/ddpg/test_smoke.py -> build/bdist.linux-x86_64/egg/baselines/ddpg\n",
            "copying build/lib/baselines/ddpg/models.py -> build/bdist.linux-x86_64/egg/baselines/ddpg\n",
            "copying build/lib/baselines/ddpg/ddpg.py -> build/bdist.linux-x86_64/egg/baselines/ddpg\n",
            "copying build/lib/baselines/ddpg/memory.py -> build/bdist.linux-x86_64/egg/baselines/ddpg\n",
            "copying build/lib/baselines/ddpg/__init__.py -> build/bdist.linux-x86_64/egg/baselines/ddpg\n",
            "copying build/lib/baselines/ddpg/ddpg_learner.py -> build/bdist.linux-x86_64/egg/baselines/ddpg\n",
            "copying build/lib/baselines/ddpg/noise.py -> build/bdist.linux-x86_64/egg/baselines/ddpg\n",
            "byte-compiling build/bdist.linux-x86_64/egg/baselines/acer/runner.py to runner.cpython-37.pyc\n",
            "byte-compiling build/bdist.linux-x86_64/egg/baselines/acer/policies.py to policies.cpython-37.pyc\n",
            "byte-compiling build/bdist.linux-x86_64/egg/baselines/acer/acer.py to acer.cpython-37.pyc\n",
            "byte-compiling build/bdist.linux-x86_64/egg/baselines/acer/buffer.py to buffer.cpython-37.pyc\n",
            "byte-compiling build/bdist.linux-x86_64/egg/baselines/acer/__init__.py to __init__.cpython-37.pyc\n",
            "byte-compiling build/bdist.linux-x86_64/egg/baselines/acer/defaults.py to defaults.cpython-37.pyc\n",
            "byte-compiling build/bdist.linux-x86_64/egg/baselines/results_plotter.py to results_plotter.cpython-37.pyc\n",
            "byte-compiling build/bdist.linux-x86_64/egg/baselines/run.py to run.cpython-37.pyc\n",
            "byte-compiling build/bdist.linux-x86_64/egg/baselines/ppo1/pposgd_simple.py to pposgd_simple.cpython-37.pyc\n",
            "byte-compiling build/bdist.linux-x86_64/egg/baselines/ppo1/run_mujoco.py to run_mujoco.cpython-37.pyc\n",
            "byte-compiling build/bdist.linux-x86_64/egg/baselines/ppo1/run_robotics.py to run_robotics.cpython-37.pyc\n",
            "byte-compiling build/bdist.linux-x86_64/egg/baselines/ppo1/cnn_policy.py to cnn_policy.cpython-37.pyc\n",
            "byte-compiling build/bdist.linux-x86_64/egg/baselines/ppo1/run_atari.py to run_atari.cpython-37.pyc\n",
            "byte-compiling build/bdist.linux-x86_64/egg/baselines/ppo1/__init__.py to __init__.cpython-37.pyc\n",
            "byte-compiling build/bdist.linux-x86_64/egg/baselines/ppo1/run_humanoid.py to run_humanoid.cpython-37.pyc\n",
            "byte-compiling build/bdist.linux-x86_64/egg/baselines/ppo1/mlp_policy.py to mlp_policy.cpython-37.pyc\n",
            "byte-compiling build/bdist.linux-x86_64/egg/baselines/a2c/runner.py to runner.cpython-37.pyc\n",
            "byte-compiling build/bdist.linux-x86_64/egg/baselines/a2c/a2c.py to a2c.cpython-37.pyc\n",
            "byte-compiling build/bdist.linux-x86_64/egg/baselines/a2c/utils.py to utils.cpython-37.pyc\n",
            "byte-compiling build/bdist.linux-x86_64/egg/baselines/a2c/__init__.py to __init__.cpython-37.pyc\n",
            "byte-compiling build/bdist.linux-x86_64/egg/baselines/acktr/acktr.py to acktr.cpython-37.pyc\n",
            "byte-compiling build/bdist.linux-x86_64/egg/baselines/acktr/kfac.py to kfac.cpython-37.pyc\n",
            "byte-compiling build/bdist.linux-x86_64/egg/baselines/acktr/utils.py to utils.cpython-37.pyc\n",
            "byte-compiling build/bdist.linux-x86_64/egg/baselines/acktr/kfac_utils.py to kfac_utils.cpython-37.pyc\n",
            "byte-compiling build/bdist.linux-x86_64/egg/baselines/acktr/__init__.py to __init__.cpython-37.pyc\n",
            "byte-compiling build/bdist.linux-x86_64/egg/baselines/acktr/defaults.py to defaults.cpython-37.pyc\n",
            "byte-compiling build/bdist.linux-x86_64/egg/baselines/trpo_mpi/trpo_mpi.py to trpo_mpi.cpython-37.pyc\n",
            "byte-compiling build/bdist.linux-x86_64/egg/baselines/trpo_mpi/__init__.py to __init__.cpython-37.pyc\n",
            "byte-compiling build/bdist.linux-x86_64/egg/baselines/trpo_mpi/defaults.py to defaults.cpython-37.pyc\n",
            "byte-compiling build/bdist.linux-x86_64/egg/baselines/gail/behavior_clone.py to behavior_clone.cpython-37.pyc\n",
            "byte-compiling build/bdist.linux-x86_64/egg/baselines/gail/run_mujoco.py to run_mujoco.cpython-37.pyc\n",
            "byte-compiling build/bdist.linux-x86_64/egg/baselines/gail/adversary.py to adversary.cpython-37.pyc\n",
            "byte-compiling build/bdist.linux-x86_64/egg/baselines/gail/statistics.py to statistics.cpython-37.pyc\n",
            "byte-compiling build/bdist.linux-x86_64/egg/baselines/gail/trpo_mpi.py to trpo_mpi.cpython-37.pyc\n",
            "byte-compiling build/bdist.linux-x86_64/egg/baselines/gail/gail-eval.py to gail-eval.cpython-37.pyc\n",
            "byte-compiling build/bdist.linux-x86_64/egg/baselines/gail/dataset/mujoco_dset.py to mujoco_dset.cpython-37.pyc\n",
            "byte-compiling build/bdist.linux-x86_64/egg/baselines/gail/dataset/__init__.py to __init__.cpython-37.pyc\n",
            "byte-compiling build/bdist.linux-x86_64/egg/baselines/gail/__init__.py to __init__.cpython-37.pyc\n",
            "byte-compiling build/bdist.linux-x86_64/egg/baselines/gail/mlp_policy.py to mlp_policy.cpython-37.pyc\n",
            "byte-compiling build/bdist.linux-x86_64/egg/baselines/bench/monitor.py to monitor.cpython-37.pyc\n",
            "byte-compiling build/bdist.linux-x86_64/egg/baselines/bench/test_monitor.py to test_monitor.cpython-37.pyc\n",
            "byte-compiling build/bdist.linux-x86_64/egg/baselines/bench/benchmarks.py to benchmarks.cpython-37.pyc\n",
            "byte-compiling build/bdist.linux-x86_64/egg/baselines/bench/__init__.py to __init__.cpython-37.pyc\n",
            "byte-compiling build/bdist.linux-x86_64/egg/baselines/deepq/build_graph.py to build_graph.cpython-37.pyc\n",
            "byte-compiling build/bdist.linux-x86_64/egg/baselines/deepq/utils.py to utils.cpython-37.pyc\n",
            "byte-compiling build/bdist.linux-x86_64/egg/baselines/deepq/experiments/enjoy_mountaincar.py to enjoy_mountaincar.cpython-37.pyc\n",
            "byte-compiling build/bdist.linux-x86_64/egg/baselines/deepq/experiments/enjoy_pong.py to enjoy_pong.cpython-37.pyc\n",
            "byte-compiling build/bdist.linux-x86_64/egg/baselines/deepq/experiments/train_pong.py to train_pong.cpython-37.pyc\n",
            "byte-compiling build/bdist.linux-x86_64/egg/baselines/deepq/experiments/enjoy_cartpole.py to enjoy_cartpole.cpython-37.pyc\n",
            "byte-compiling build/bdist.linux-x86_64/egg/baselines/deepq/experiments/custom_cartpole.py to custom_cartpole.cpython-37.pyc\n",
            "byte-compiling build/bdist.linux-x86_64/egg/baselines/deepq/experiments/__init__.py to __init__.cpython-37.pyc\n",
            "byte-compiling build/bdist.linux-x86_64/egg/baselines/deepq/experiments/train_mountaincar.py to train_mountaincar.cpython-37.pyc\n",
            "byte-compiling build/bdist.linux-x86_64/egg/baselines/deepq/experiments/train_cartpole.py to train_cartpole.cpython-37.pyc\n",
            "byte-compiling build/bdist.linux-x86_64/egg/baselines/deepq/models.py to models.cpython-37.pyc\n",
            "byte-compiling build/bdist.linux-x86_64/egg/baselines/deepq/replay_buffer.py to replay_buffer.cpython-37.pyc\n",
            "byte-compiling build/bdist.linux-x86_64/egg/baselines/deepq/deepq.py to deepq.cpython-37.pyc\n",
            "byte-compiling build/bdist.linux-x86_64/egg/baselines/deepq/__init__.py to __init__.cpython-37.pyc\n",
            "byte-compiling build/bdist.linux-x86_64/egg/baselines/deepq/defaults.py to defaults.cpython-37.pyc\n",
            "byte-compiling build/bdist.linux-x86_64/egg/baselines/logger.py to logger.cpython-37.pyc\n",
            "byte-compiling build/bdist.linux-x86_64/egg/baselines/common/segment_tree.py to segment_tree.cpython-37.pyc\n",
            "byte-compiling build/bdist.linux-x86_64/egg/baselines/common/tile_images.py to tile_images.cpython-37.pyc\n",
            "byte-compiling build/bdist.linux-x86_64/egg/baselines/common/tf_util.py to tf_util.cpython-37.pyc\n",
            "byte-compiling build/bdist.linux-x86_64/egg/baselines/common/distributions.py to distributions.cpython-37.pyc\n",
            "byte-compiling build/bdist.linux-x86_64/egg/baselines/common/retro_wrappers.py to retro_wrappers.cpython-37.pyc\n",
            "byte-compiling build/bdist.linux-x86_64/egg/baselines/common/schedules.py to schedules.cpython-37.pyc\n",
            "byte-compiling build/bdist.linux-x86_64/egg/baselines/common/cmd_util.py to cmd_util.cpython-37.pyc\n",
            "byte-compiling build/bdist.linux-x86_64/egg/baselines/common/test_mpi_util.py to test_mpi_util.cpython-37.pyc\n",
            "byte-compiling build/bdist.linux-x86_64/egg/baselines/common/cg.py to cg.cpython-37.pyc\n",
            "byte-compiling build/bdist.linux-x86_64/egg/baselines/common/atari_wrappers.py to atari_wrappers.cpython-37.pyc\n",
            "byte-compiling build/bdist.linux-x86_64/egg/baselines/common/misc_util.py to misc_util.cpython-37.pyc\n",
            "byte-compiling build/bdist.linux-x86_64/egg/baselines/common/mpi_adam.py to mpi_adam.cpython-37.pyc\n",
            "byte-compiling build/bdist.linux-x86_64/egg/baselines/common/plot_util.py to plot_util.cpython-37.pyc\n",
            "byte-compiling build/bdist.linux-x86_64/egg/baselines/common/policies.py to policies.cpython-37.pyc\n",
            "byte-compiling build/bdist.linux-x86_64/egg/baselines/common/models.py to models.cpython-37.pyc\n",
            "byte-compiling build/bdist.linux-x86_64/egg/baselines/common/math_util.py to math_util.cpython-37.pyc\n",
            "byte-compiling build/bdist.linux-x86_64/egg/baselines/common/running_mean_std.py to running_mean_std.cpython-37.pyc\n",
            "byte-compiling build/bdist.linux-x86_64/egg/baselines/common/input.py to input.cpython-37.pyc\n",
            "byte-compiling build/bdist.linux-x86_64/egg/baselines/common/vec_env/test_vec_env.py to test_vec_env.cpython-37.pyc\n",
            "byte-compiling build/bdist.linux-x86_64/egg/baselines/common/vec_env/dummy_vec_env.py to dummy_vec_env.cpython-37.pyc\n",
            "byte-compiling build/bdist.linux-x86_64/egg/baselines/common/vec_env/util.py to util.cpython-37.pyc\n",
            "byte-compiling build/bdist.linux-x86_64/egg/baselines/common/vec_env/vec_monitor.py to vec_monitor.cpython-37.pyc\n",
            "byte-compiling build/bdist.linux-x86_64/egg/baselines/common/vec_env/subproc_vec_env.py to subproc_vec_env.cpython-37.pyc\n",
            "byte-compiling build/bdist.linux-x86_64/egg/baselines/common/vec_env/vec_video_recorder.py to vec_video_recorder.cpython-37.pyc\n",
            "byte-compiling build/bdist.linux-x86_64/egg/baselines/common/vec_env/vec_frame_stack.py to vec_frame_stack.cpython-37.pyc\n",
            "byte-compiling build/bdist.linux-x86_64/egg/baselines/common/vec_env/vec_env.py to vec_env.cpython-37.pyc\n",
            "byte-compiling build/bdist.linux-x86_64/egg/baselines/common/vec_env/vec_normalize.py to vec_normalize.cpython-37.pyc\n",
            "byte-compiling build/bdist.linux-x86_64/egg/baselines/common/vec_env/vec_remove_dict_obs.py to vec_remove_dict_obs.cpython-37.pyc\n",
            "byte-compiling build/bdist.linux-x86_64/egg/baselines/common/vec_env/shmem_vec_env.py to shmem_vec_env.cpython-37.pyc\n",
            "byte-compiling build/bdist.linux-x86_64/egg/baselines/common/vec_env/test_video_recorder.py to test_video_recorder.cpython-37.pyc\n",
            "byte-compiling build/bdist.linux-x86_64/egg/baselines/common/vec_env/__init__.py to __init__.cpython-37.pyc\n",
            "byte-compiling build/bdist.linux-x86_64/egg/baselines/common/mpi_running_mean_std.py to mpi_running_mean_std.cpython-37.pyc\n",
            "byte-compiling build/bdist.linux-x86_64/egg/baselines/common/mpi_moments.py to mpi_moments.cpython-37.pyc\n",
            "byte-compiling build/bdist.linux-x86_64/egg/baselines/common/console_util.py to console_util.cpython-37.pyc\n",
            "byte-compiling build/bdist.linux-x86_64/egg/baselines/common/mpi_adam_optimizer.py to mpi_adam_optimizer.cpython-37.pyc\n",
            "byte-compiling build/bdist.linux-x86_64/egg/baselines/common/mpi_util.py to mpi_util.cpython-37.pyc\n",
            "byte-compiling build/bdist.linux-x86_64/egg/baselines/common/wrappers.py to wrappers.cpython-37.pyc\n",
            "byte-compiling build/bdist.linux-x86_64/egg/baselines/common/mpi_fork.py to mpi_fork.cpython-37.pyc\n",
            "byte-compiling build/bdist.linux-x86_64/egg/baselines/common/__init__.py to __init__.cpython-37.pyc\n",
            "byte-compiling build/bdist.linux-x86_64/egg/baselines/common/dataset.py to dataset.cpython-37.pyc\n",
            "byte-compiling build/bdist.linux-x86_64/egg/baselines/common/tests/test_env_after_learn.py to test_env_after_learn.cpython-37.pyc\n",
            "byte-compiling build/bdist.linux-x86_64/egg/baselines/common/tests/test_mnist.py to test_mnist.cpython-37.pyc\n",
            "byte-compiling build/bdist.linux-x86_64/egg/baselines/common/tests/test_serialization.py to test_serialization.cpython-37.pyc\n",
            "byte-compiling build/bdist.linux-x86_64/egg/baselines/common/tests/test_with_mpi.py to test_with_mpi.cpython-37.pyc\n",
            "byte-compiling build/bdist.linux-x86_64/egg/baselines/common/tests/util.py to util.cpython-37.pyc\n",
            "byte-compiling build/bdist.linux-x86_64/egg/baselines/common/tests/test_cartpole.py to test_cartpole.cpython-37.pyc\n",
            "byte-compiling build/bdist.linux-x86_64/egg/baselines/common/tests/test_schedules.py to test_schedules.cpython-37.pyc\n",
            "byte-compiling build/bdist.linux-x86_64/egg/baselines/common/tests/test_identity.py to test_identity.cpython-37.pyc\n",
            "byte-compiling build/bdist.linux-x86_64/egg/baselines/common/tests/test_doc_examples.py to test_doc_examples.cpython-37.pyc\n",
            "byte-compiling build/bdist.linux-x86_64/egg/baselines/common/tests/test_segment_tree.py to test_segment_tree.cpython-37.pyc\n",
            "byte-compiling build/bdist.linux-x86_64/egg/baselines/common/tests/test_plot_util.py to test_plot_util.cpython-37.pyc\n",
            "byte-compiling build/bdist.linux-x86_64/egg/baselines/common/tests/test_fetchreach.py to test_fetchreach.cpython-37.pyc\n",
            "byte-compiling build/bdist.linux-x86_64/egg/baselines/common/tests/test_fixed_sequence.py to test_fixed_sequence.cpython-37.pyc\n",
            "byte-compiling build/bdist.linux-x86_64/egg/baselines/common/tests/test_tf_util.py to test_tf_util.cpython-37.pyc\n",
            "byte-compiling build/bdist.linux-x86_64/egg/baselines/common/tests/envs/identity_env.py to identity_env.cpython-37.pyc\n",
            "byte-compiling build/bdist.linux-x86_64/egg/baselines/common/tests/envs/identity_env_test.py to identity_env_test.cpython-37.pyc\n",
            "byte-compiling build/bdist.linux-x86_64/egg/baselines/common/tests/envs/mnist_env.py to mnist_env.cpython-37.pyc\n",
            "byte-compiling build/bdist.linux-x86_64/egg/baselines/common/tests/envs/fixed_sequence_env.py to fixed_sequence_env.cpython-37.pyc\n",
            "byte-compiling build/bdist.linux-x86_64/egg/baselines/common/tests/envs/__init__.py to __init__.cpython-37.pyc\n",
            "byte-compiling build/bdist.linux-x86_64/egg/baselines/common/tests/__init__.py to __init__.cpython-37.pyc\n",
            "byte-compiling build/bdist.linux-x86_64/egg/baselines/common/runners.py to runners.cpython-37.pyc\n",
            "byte-compiling build/bdist.linux-x86_64/egg/baselines/her/normalizer.py to normalizer.cpython-37.pyc\n",
            "byte-compiling build/bdist.linux-x86_64/egg/baselines/her/her_sampler.py to her_sampler.cpython-37.pyc\n",
            "byte-compiling build/bdist.linux-x86_64/egg/baselines/her/util.py to util.cpython-37.pyc\n",
            "byte-compiling build/bdist.linux-x86_64/egg/baselines/her/replay_buffer.py to replay_buffer.cpython-37.pyc\n",
            "byte-compiling build/bdist.linux-x86_64/egg/baselines/her/ddpg.py to ddpg.cpython-37.pyc\n",
            "byte-compiling build/bdist.linux-x86_64/egg/baselines/her/experiment/play.py to play.cpython-37.pyc\n",
            "byte-compiling build/bdist.linux-x86_64/egg/baselines/her/experiment/config.py to config.cpython-37.pyc\n",
            "byte-compiling build/bdist.linux-x86_64/egg/baselines/her/experiment/plot.py to plot.cpython-37.pyc\n",
            "byte-compiling build/bdist.linux-x86_64/egg/baselines/her/experiment/__init__.py to __init__.cpython-37.pyc\n",
            "byte-compiling build/bdist.linux-x86_64/egg/baselines/her/actor_critic.py to actor_critic.cpython-37.pyc\n",
            "byte-compiling build/bdist.linux-x86_64/egg/baselines/her/rollout.py to rollout.cpython-37.pyc\n",
            "byte-compiling build/bdist.linux-x86_64/egg/baselines/her/__init__.py to __init__.cpython-37.pyc\n",
            "byte-compiling build/bdist.linux-x86_64/egg/baselines/her/her.py to her.cpython-37.pyc\n",
            "byte-compiling build/bdist.linux-x86_64/egg/baselines/__init__.py to __init__.cpython-37.pyc\n",
            "byte-compiling build/bdist.linux-x86_64/egg/baselines/ppo2/runner.py to runner.cpython-37.pyc\n",
            "byte-compiling build/bdist.linux-x86_64/egg/baselines/ppo2/model.py to model.cpython-37.pyc\n",
            "byte-compiling build/bdist.linux-x86_64/egg/baselines/ppo2/ppo2.py to ppo2.cpython-37.pyc\n",
            "byte-compiling build/bdist.linux-x86_64/egg/baselines/ppo2/microbatched_model.py to microbatched_model.cpython-37.pyc\n",
            "byte-compiling build/bdist.linux-x86_64/egg/baselines/ppo2/__init__.py to __init__.cpython-37.pyc\n",
            "byte-compiling build/bdist.linux-x86_64/egg/baselines/ppo2/test_microbatches.py to test_microbatches.cpython-37.pyc\n",
            "byte-compiling build/bdist.linux-x86_64/egg/baselines/ppo2/defaults.py to defaults.cpython-37.pyc\n",
            "byte-compiling build/bdist.linux-x86_64/egg/baselines/ddpg/test_smoke.py to test_smoke.cpython-37.pyc\n",
            "byte-compiling build/bdist.linux-x86_64/egg/baselines/ddpg/models.py to models.cpython-37.pyc\n",
            "byte-compiling build/bdist.linux-x86_64/egg/baselines/ddpg/ddpg.py to ddpg.cpython-37.pyc\n",
            "byte-compiling build/bdist.linux-x86_64/egg/baselines/ddpg/memory.py to memory.cpython-37.pyc\n",
            "byte-compiling build/bdist.linux-x86_64/egg/baselines/ddpg/__init__.py to __init__.cpython-37.pyc\n",
            "byte-compiling build/bdist.linux-x86_64/egg/baselines/ddpg/ddpg_learner.py to ddpg_learner.cpython-37.pyc\n",
            "byte-compiling build/bdist.linux-x86_64/egg/baselines/ddpg/noise.py to noise.cpython-37.pyc\n",
            "creating build/bdist.linux-x86_64/egg/EGG-INFO\n",
            "copying baselines.egg-info/PKG-INFO -> build/bdist.linux-x86_64/egg/EGG-INFO\n",
            "copying baselines.egg-info/SOURCES.txt -> build/bdist.linux-x86_64/egg/EGG-INFO\n",
            "copying baselines.egg-info/dependency_links.txt -> build/bdist.linux-x86_64/egg/EGG-INFO\n",
            "copying baselines.egg-info/requires.txt -> build/bdist.linux-x86_64/egg/EGG-INFO\n",
            "copying baselines.egg-info/top_level.txt -> build/bdist.linux-x86_64/egg/EGG-INFO\n",
            "zip_safe flag not set; analyzing archive contents...\n",
            "baselines.bench.__pycache__.benchmarks.cpython-37: module references __file__\n",
            "creating dist\n",
            "creating 'dist/baselines-0.1.6-py3.7.egg' and adding 'build/bdist.linux-x86_64/egg' to it\n",
            "removing 'build/bdist.linux-x86_64/egg' (and everything under it)\n",
            "Processing baselines-0.1.6-py3.7.egg\n",
            "creating /usr/local/lib/python3.7/dist-packages/baselines-0.1.6-py3.7.egg\n",
            "Extracting baselines-0.1.6-py3.7.egg to /usr/local/lib/python3.7/dist-packages\n",
            "Adding baselines 0.1.6 to easy-install.pth file\n",
            "\n",
            "Installed /usr/local/lib/python3.7/dist-packages/baselines-0.1.6-py3.7.egg\n",
            "Processing dependencies for baselines==0.1.6\n",
            "Searching for gym<0.16.0,>=0.15.4\n",
            "Reading https://pypi.org/simple/gym/\n",
            "Downloading https://files.pythonhosted.org/packages/e0/01/8771e8f914a627022296dab694092a11a7d417b6c8364f0a44a8debca734/gym-0.15.7.tar.gz#sha256=8428a9b212197911e3fecd797aedafcdda40435f197332b093b3f5b145d5c9cb\n",
            "Best match: gym 0.15.7\n",
            "Processing gym-0.15.7.tar.gz\n",
            "Writing /tmp/easy_install-sjlisu7r/gym-0.15.7/setup.cfg\n",
            "Running gym-0.15.7/setup.py -q bdist_egg --dist-dir /tmp/easy_install-sjlisu7r/gym-0.15.7/egg-dist-tmp-8e85vcl1\n",
            "creating /usr/local/lib/python3.7/dist-packages/gym-0.15.7-py3.7.egg\n",
            "Extracting gym-0.15.7-py3.7.egg to /usr/local/lib/python3.7/dist-packages\n",
            "Adding gym 0.15.7 to easy-install.pth file\n",
            "\n",
            "Installed /usr/local/lib/python3.7/dist-packages/gym-0.15.7-py3.7.egg\n",
            "error: cloudpickle 1.3.0 is installed but cloudpickle~=1.2.0 is required by {'gym'}\n"
          ]
        }
      ]
    },
    {
      "cell_type": "code",
      "metadata": {
        "colab": {
          "base_uri": "https://localhost:8080/"
        },
        "id": "DMwPl5-OduJE",
        "outputId": "1fa21725-b58c-4f4f-bfd7-c428395d0b05"
      },
      "source": [
        "# Rom handling\n",
        "import urllib.request\n",
        "urllib.request.urlretrieve('http://www.atarimania.com/roms/Roms.rar','Roms.rar')\n",
        "!pip install unrar\n",
        "!unrar x Roms.rar\n",
        "!mkdir rars\n",
        "!mv HC\\ ROMS.zip   rars\n",
        "!mv ROMS.zip  rars\n",
        "!python -m atari_py.import_roms rars"
      ],
      "execution_count": 5,
      "outputs": [
        {
          "output_type": "stream",
          "name": "stdout",
          "text": [
            "Collecting unrar\n",
            "  Downloading unrar-0.4-py3-none-any.whl (25 kB)\n",
            "Installing collected packages: unrar\n",
            "Successfully installed unrar-0.4\n",
            "\n",
            "UNRAR 5.50 freeware      Copyright (c) 1993-2017 Alexander Roshal\n",
            "\n",
            "\n",
            "Extracting from Roms.rar\n",
            "\n",
            "Extracting  HC ROMS.zip                                                  \b\b\b\b 36%\b\b\b\b\b  OK \n",
            "Extracting  ROMS.zip                                                     \b\b\b\b 74%\b\b\b\b 99%\b\b\b\b\b  OK \n",
            "All OK\n",
            "copying adventure.bin from ROMS/Adventure (1980) (Atari, Warren Robinett) (CX2613, CX2613P) (PAL).bin to /usr/local/lib/python3.7/dist-packages/atari_py/atari_roms/adventure.bin\n",
            "copying air_raid.bin from ROMS/Air Raid (Men-A-Vision) (PAL) ~.bin to /usr/local/lib/python3.7/dist-packages/atari_py/atari_roms/air_raid.bin\n",
            "copying alien.bin from ROMS/Alien (1982) (20th Century Fox Video Games, Douglas 'Dallas North' Neubauer) (11006) ~.bin to /usr/local/lib/python3.7/dist-packages/atari_py/atari_roms/alien.bin\n",
            "copying amidar.bin from ROMS/Amidar (1982) (Parker Brothers, Ed Temple) (PB5310) ~.bin to /usr/local/lib/python3.7/dist-packages/atari_py/atari_roms/amidar.bin\n",
            "copying assault.bin from ROMS/Assault (AKA Sky Alien) (1983) (Bomb - Onbase) (CA281).bin to /usr/local/lib/python3.7/dist-packages/atari_py/atari_roms/assault.bin\n",
            "copying asterix.bin from ROMS/Asterix (AKA Taz) (07-27-1983) (Atari, Jerome Domurat, Steve Woita) (CX2696) (Prototype).bin to /usr/local/lib/python3.7/dist-packages/atari_py/atari_roms/asterix.bin\n",
            "copying asteroids.bin from ROMS/Asteroids (1981) (Atari, Brad Stewart - Sears) (CX2649 - 49-75163) [no copyright] ~.bin to /usr/local/lib/python3.7/dist-packages/atari_py/atari_roms/asteroids.bin\n",
            "copying atlantis.bin from ROMS/Atlantis (Lost City of Atlantis) (1982) (Imagic, Dennis Koble) (720103-1A, 720103-1B, IA3203, IX-010-04) ~.bin to /usr/local/lib/python3.7/dist-packages/atari_py/atari_roms/atlantis.bin\n",
            "copying bank_heist.bin from ROMS/Bank Heist (Bonnie & Clyde, Cops 'n' Robbers, Hold-Up, Roaring 20's) (1983) (20th Century Fox Video Games, Bill Aspromonte) (11012) ~.bin to /usr/local/lib/python3.7/dist-packages/atari_py/atari_roms/bank_heist.bin\n",
            "copying battle_zone.bin from ROMS/Battlezone (1983) (Atari - GCC, Mike Feinstein, Brad Rice) (CX2681) ~.bin to /usr/local/lib/python3.7/dist-packages/atari_py/atari_roms/battle_zone.bin\n",
            "copying beam_rider.bin from ROMS/Beamrider (1984) (Activision - Cheshire Engineering, David Rolfe, Larry Zwick) (AZ-037-04) ~.bin to /usr/local/lib/python3.7/dist-packages/atari_py/atari_roms/beam_rider.bin\n",
            "copying berzerk.bin from ROMS/Berzerk (1982) (Atari, Dan Hitchens - Sears) (CX2650 - 49-75168) ~.bin to /usr/local/lib/python3.7/dist-packages/atari_py/atari_roms/berzerk.bin\n",
            "copying bowling.bin from ROMS/Bowling (1979) (Atari, Larry Kaplan - Sears) (CX2628 - 6-99842, 49-75117) ~.bin to /usr/local/lib/python3.7/dist-packages/atari_py/atari_roms/bowling.bin\n",
            "copying boxing.bin from ROMS/Boxing - La Boxe (1980) (Activision, Bob Whitehead) (AG-002, CAG-002, AG-002-04) ~.bin to /usr/local/lib/python3.7/dist-packages/atari_py/atari_roms/boxing.bin\n",
            "copying breakout.bin from ROMS/Breakout - Breakaway IV (Paddle) (1978) (Atari, Brad Stewart - Sears) (CX2622 - 6-99813, 49-75107) ~.bin to /usr/local/lib/python3.7/dist-packages/atari_py/atari_roms/breakout.bin\n",
            "copying carnival.bin from ROMS/Carnival (1982) (Coleco - Woodside Design Associates, Steve 'Jessica Stevens' Kitchen) (2468) ~.bin to /usr/local/lib/python3.7/dist-packages/atari_py/atari_roms/carnival.bin\n",
            "copying centipede.bin from ROMS/Centipede (1983) (Atari - GCC) (CX2676) ~.bin to /usr/local/lib/python3.7/dist-packages/atari_py/atari_roms/centipede.bin\n",
            "copying chopper_command.bin from ROMS/Chopper Command (1982) (Activision, Bob Whitehead) (AX-015, AX-015-04) ~.bin to /usr/local/lib/python3.7/dist-packages/atari_py/atari_roms/chopper_command.bin\n",
            "copying crazy_climber.bin from ROMS/Crazy Climber (1983) (Atari - Roklan, Joe Gaucher, Alex Leavens) (CX2683) ~.bin to /usr/local/lib/python3.7/dist-packages/atari_py/atari_roms/crazy_climber.bin\n",
            "copying defender.bin from ROMS/Defender (1982) (Atari, Robert C. Polaro, Alan J. Murphy - Sears) (CX2609 - 49-75186) ~.bin to /usr/local/lib/python3.7/dist-packages/atari_py/atari_roms/defender.bin\n",
            "copying demon_attack.bin from ROMS/Demon Attack (Death from Above) (1982) (Imagic, Rob Fulop) (720000-200, 720101-1B, 720101-1C, IA3200, IA3200C, IX-006-04) ~.bin to /usr/local/lib/python3.7/dist-packages/atari_py/atari_roms/demon_attack.bin\n",
            "copying donkey_kong.bin from ROMS/Donkey Kong (1982) (Coleco - Woodside Design Associates - Imaginative Systems Software, Garry Kitchen) (2451) ~.bin to /usr/local/lib/python3.7/dist-packages/atari_py/atari_roms/donkey_kong.bin\n",
            "copying double_dunk.bin from ROMS/Double Dunk (Super Basketball) (1989) (Atari, Matthew L. Hubbard) (CX26159) ~.bin to /usr/local/lib/python3.7/dist-packages/atari_py/atari_roms/double_dunk.bin\n",
            "copying elevator_action.bin from ROMS/Elevator Action (1983) (Atari, Dan Hitchens) (CX26126) (Prototype) ~.bin to /usr/local/lib/python3.7/dist-packages/atari_py/atari_roms/elevator_action.bin\n",
            "copying enduro.bin from ROMS/Enduro (1983) (Activision, Larry Miller) (AX-026, AX-026-04) ~.bin to /usr/local/lib/python3.7/dist-packages/atari_py/atari_roms/enduro.bin\n",
            "copying fishing_derby.bin from ROMS/Fishing Derby (1980) (Activision, David Crane) (AG-004) ~.bin to /usr/local/lib/python3.7/dist-packages/atari_py/atari_roms/fishing_derby.bin\n",
            "copying freeway.bin from ROMS/Freeway (1981) (Activision, David Crane) (AG-009, AG-009-04) ~.bin to /usr/local/lib/python3.7/dist-packages/atari_py/atari_roms/freeway.bin\n",
            "copying frogger.bin from ROMS/Frogger (1982) (Parker Brothers, Ed English, David Lamkins) (PB5300) ~.bin to /usr/local/lib/python3.7/dist-packages/atari_py/atari_roms/frogger.bin\n",
            "copying frostbite.bin from ROMS/Frostbite (1983) (Activision, Steve Cartwright) (AX-031) ~.bin to /usr/local/lib/python3.7/dist-packages/atari_py/atari_roms/frostbite.bin\n",
            "copying galaxian.bin from ROMS/Galaxian (1983) (Atari - GCC, Mark Ackerman, Tom Calderwood, Glenn Parker) (CX2684) ~.bin to /usr/local/lib/python3.7/dist-packages/atari_py/atari_roms/galaxian.bin\n",
            "copying gopher.bin from ROMS/Gopher (Gopher Attack) (1982) (U.S. Games Corporation - JWDA, Sylvia Day, Todd Marshall, Robin McDaniel, Henry Will IV) (VC2001) ~.bin to /usr/local/lib/python3.7/dist-packages/atari_py/atari_roms/gopher.bin\n",
            "copying gravitar.bin from ROMS/Gravitar (1983) (Atari, Dan Hitchens, Mimi Nyden) (CX2685) ~.bin to /usr/local/lib/python3.7/dist-packages/atari_py/atari_roms/gravitar.bin\n",
            "copying hero.bin from ROMS/H.E.R.O. (1984) (Activision, John Van Ryzin) (AZ-036-04) ~.bin to /usr/local/lib/python3.7/dist-packages/atari_py/atari_roms/hero.bin\n",
            "copying ice_hockey.bin from ROMS/Ice Hockey - Le Hockey Sur Glace (1981) (Activision, Alan Miller) (AX-012, CAX-012, AX-012-04) ~.bin to /usr/local/lib/python3.7/dist-packages/atari_py/atari_roms/ice_hockey.bin\n",
            "copying jamesbond.bin from ROMS/James Bond 007 (James Bond Agent 007) (1984) (Parker Brothers - On-Time Software, Joe Gaucher, Louis Marbel) (PB5110) ~.bin to /usr/local/lib/python3.7/dist-packages/atari_py/atari_roms/jamesbond.bin\n",
            "copying journey_escape.bin from ROMS/Journey Escape (1983) (Data Age, J. Ray Dettling) (112-006) ~.bin to /usr/local/lib/python3.7/dist-packages/atari_py/atari_roms/journey_escape.bin\n",
            "copying kaboom.bin from ROMS/Kaboom! (Paddle) (1981) (Activision, Larry Kaplan, David Crane) (AG-010, AG-010-04) ~.bin to /usr/local/lib/python3.7/dist-packages/atari_py/atari_roms/kaboom.bin\n",
            "copying kangaroo.bin from ROMS/Kangaroo (1983) (Atari - GCC, Kevin Osborn) (CX2689) ~.bin to /usr/local/lib/python3.7/dist-packages/atari_py/atari_roms/kangaroo.bin\n",
            "copying keystone_kapers.bin from ROMS/Keystone Kapers - Raueber und Gendarm (1983) (Activision, Garry Kitchen - Ariola) (EAX-025, EAX-025-04I - 711 025-725) (PAL).bin to /usr/local/lib/python3.7/dist-packages/atari_py/atari_roms/keystone_kapers.bin\n",
            "copying king_kong.bin from ROMS/King Kong (1982) (Tigervision - Software Electronics Corporation, Karl T. Olinger - Teldec) (7-001 - 3.60001 VE) (PAL).bin to /usr/local/lib/python3.7/dist-packages/atari_py/atari_roms/king_kong.bin\n",
            "copying koolaid.bin from ROMS/Kool-Aid Man (Kool Aid Pitcher Man) (1983) (M Network, Stephen Tatsumi, Jane Terjung - Kool Aid) (MT4648) ~.bin to /usr/local/lib/python3.7/dist-packages/atari_py/atari_roms/koolaid.bin\n",
            "copying krull.bin from ROMS/Krull (1983) (Atari, Jerome Domurat, Dave Staugas) (CX2682) ~.bin to /usr/local/lib/python3.7/dist-packages/atari_py/atari_roms/krull.bin\n",
            "copying kung_fu_master.bin from ROMS/Kung-Fu Master (1987) (Activision - Imagineering, Dan Kitchen, Garry Kitchen) (AG-039-04) ~.bin to /usr/local/lib/python3.7/dist-packages/atari_py/atari_roms/kung_fu_master.bin\n",
            "copying laser_gates.bin from ROMS/Laser Gates (AKA Innerspace) (1983) (Imagic, Dan Oliver) (720118-2A, 13208, EIX-007-04I) (PAL).bin to /usr/local/lib/python3.7/dist-packages/atari_py/atari_roms/laser_gates.bin\n",
            "copying lost_luggage.bin from ROMS/Lost Luggage (Airport Mayhem) (1982) (Apollo - Games by Apollo, Larry Minor, Ernie Runyon, Ed Salvo) (AP-2004) [no opening scene] ~.bin to /usr/local/lib/python3.7/dist-packages/atari_py/atari_roms/lost_luggage.bin\n",
            "copying montezuma_revenge.bin from ROMS/Montezuma's Revenge - Featuring Panama Joe (1984) (Parker Brothers - JWDA, Henry Will IV) (PB5760) ~.bin to /usr/local/lib/python3.7/dist-packages/atari_py/atari_roms/montezuma_revenge.bin\n",
            "copying mr_do.bin from ROMS/Mr. Do! (1983) (CBS Electronics, Ed English) (4L4478) (PAL).bin to /usr/local/lib/python3.7/dist-packages/atari_py/atari_roms/mr_do.bin\n",
            "copying ms_pacman.bin from ROMS/Ms. Pac-Man (1983) (Atari - GCC, Mark Ackerman, Glenn Parker) (CX2675) ~.bin to /usr/local/lib/python3.7/dist-packages/atari_py/atari_roms/ms_pacman.bin\n",
            "copying name_this_game.bin from ROMS/Name This Game (Guardians of Treasure) (1983) (U.S. Games Corporation - JWDA, Roger Booth, Sylvia Day, Ron Dubren, Todd Marshall, Robin McDaniel, Wes Trager, Henry Will IV) (VC1007) ~.bin to /usr/local/lib/python3.7/dist-packages/atari_py/atari_roms/name_this_game.bin\n",
            "copying pacman.bin from ROMS/Pac-Man (1982) (Atari, Tod Frye) (CX2646) (PAL).bin to /usr/local/lib/python3.7/dist-packages/atari_py/atari_roms/pacman.bin\n",
            "copying phoenix.bin from ROMS/Phoenix (1983) (Atari - GCC, Mike Feinstein, John Mracek) (CX2673) ~.bin to /usr/local/lib/python3.7/dist-packages/atari_py/atari_roms/phoenix.bin\n",
            "copying video_pinball.bin from ROMS/Pinball (AKA Video Pinball) (Zellers).bin to /usr/local/lib/python3.7/dist-packages/atari_py/atari_roms/video_pinball.bin\n",
            "copying pitfall.bin from ROMS/Pitfall! - Pitfall Harry's Jungle Adventure (Jungle Runner) (1982) (Activision, David Crane) (AX-018, AX-018-04) ~.bin to /usr/local/lib/python3.7/dist-packages/atari_py/atari_roms/pitfall.bin\n",
            "copying pooyan.bin from ROMS/Pooyan (1983) (Konami) (RC 100-X 02) ~.bin to /usr/local/lib/python3.7/dist-packages/atari_py/atari_roms/pooyan.bin\n",
            "copying private_eye.bin from ROMS/Private Eye (1984) (Activision, Bob Whitehead) (AG-034-04) ~.bin to /usr/local/lib/python3.7/dist-packages/atari_py/atari_roms/private_eye.bin\n",
            "copying qbert.bin from ROMS/Q-bert (1983) (Parker Brothers - Western Technologies, Dave Hampton, Tom Sloper) (PB5360) ~.bin to /usr/local/lib/python3.7/dist-packages/atari_py/atari_roms/qbert.bin\n",
            "copying riverraid.bin from ROMS/River Raid (1982) (Activision, Carol Shaw) (AX-020, AX-020-04) ~.bin to /usr/local/lib/python3.7/dist-packages/atari_py/atari_roms/riverraid.bin\n",
            "copying road_runner.bin from patched version of ROMS/Road Runner (1989) (Atari - Bobco, Robert C. Polaro) (CX2663) ~.bin to /usr/local/lib/python3.7/dist-packages/atari_py/atari_roms/road_runner.bin\n",
            "copying robotank.bin from ROMS/Robot Tank (Robotank) (1983) (Activision, Alan Miller) (AZ-028, AG-028-04) ~.bin to /usr/local/lib/python3.7/dist-packages/atari_py/atari_roms/robotank.bin\n",
            "copying seaquest.bin from ROMS/Seaquest (1983) (Activision, Steve Cartwright) (AX-022) ~.bin to /usr/local/lib/python3.7/dist-packages/atari_py/atari_roms/seaquest.bin\n",
            "copying sir_lancelot.bin from ROMS/Sir Lancelot (1983) (Xonox - K-Tel Software - Product Guild, Anthony R. Henderson) (99006, 6220) (PAL).bin to /usr/local/lib/python3.7/dist-packages/atari_py/atari_roms/sir_lancelot.bin\n",
            "copying skiing.bin from ROMS/Skiing - Le Ski (1980) (Activision, Bob Whitehead) (AG-005, CAG-005, AG-005-04) ~.bin to /usr/local/lib/python3.7/dist-packages/atari_py/atari_roms/skiing.bin\n",
            "copying solaris.bin from ROMS/Solaris (The Last Starfighter, Star Raiders II, Universe) (1986) (Atari, Douglas Neubauer, Mimi Nyden) (CX26136) ~.bin to /usr/local/lib/python3.7/dist-packages/atari_py/atari_roms/solaris.bin\n",
            "copying space_invaders.bin from ROMS/Space Invaders (1980) (Atari, Richard Maurer - Sears) (CX2632 - 49-75153) ~.bin to /usr/local/lib/python3.7/dist-packages/atari_py/atari_roms/space_invaders.bin\n",
            "copying star_gunner.bin from ROMS/Stargunner (1983) (Telesys, Alex Leavens) (1005) ~.bin to /usr/local/lib/python3.7/dist-packages/atari_py/atari_roms/star_gunner.bin\n",
            "copying surround.bin from ROMS/Surround (32 in 1) (Bit Corporation) (R320).bin to /usr/local/lib/python3.7/dist-packages/atari_py/atari_roms/surround.bin\n",
            "copying tennis.bin from ROMS/Tennis - Le Tennis (1981) (Activision, Alan Miller) (AG-007, CAG-007) ~.bin to /usr/local/lib/python3.7/dist-packages/atari_py/atari_roms/tennis.bin\n",
            "copying time_pilot.bin from ROMS/Time Pilot (1983) (Coleco - Woodside Design Associates, Harley H. Puthuff Jr.) (2663) ~.bin to /usr/local/lib/python3.7/dist-packages/atari_py/atari_roms/time_pilot.bin\n",
            "copying trondead.bin from ROMS/TRON - Deadly Discs (TRON Joystick) (1983) (M Network - INTV - APh Technological Consulting, Jeff Ronne, Brett Stutz) (MT5662) ~.bin to /usr/local/lib/python3.7/dist-packages/atari_py/atari_roms/trondead.bin\n",
            "copying tutankham.bin from ROMS/Tutankham (1983) (Parker Brothers, Dave Engman, Dawn Stockbridge) (PB5340) ~.bin to /usr/local/lib/python3.7/dist-packages/atari_py/atari_roms/tutankham.bin\n",
            "copying up_n_down.bin from ROMS/Up 'n Down (1984) (SEGA - Beck-Tech, Steve Beck, Phat Ho) (009-01) ~.bin to /usr/local/lib/python3.7/dist-packages/atari_py/atari_roms/up_n_down.bin\n",
            "copying venture.bin from ROMS/Venture (1982) (Coleco, Joseph Biel) (2457) ~.bin to /usr/local/lib/python3.7/dist-packages/atari_py/atari_roms/venture.bin\n",
            "copying pong.bin from ROMS/Video Olympics - Pong Sports (Paddle) (1977) (Atari, Joe Decuir - Sears) (CX2621 - 99806, 6-99806, 49-75104) ~.bin to /usr/local/lib/python3.7/dist-packages/atari_py/atari_roms/pong.bin\n",
            "copying wizard_of_wor.bin from ROMS/Wizard of Wor (1982) (CBS Electronics - Roklan, Joe Hellesen, Joe Wagner) (M8774, M8794) ~.bin to /usr/local/lib/python3.7/dist-packages/atari_py/atari_roms/wizard_of_wor.bin\n",
            "copying yars_revenge.bin from ROMS/Yars' Revenge (Time Freeze) (1982) (Atari, Howard Scott Warshaw - Sears) (CX2655 - 49-75167) ~.bin to /usr/local/lib/python3.7/dist-packages/atari_py/atari_roms/yars_revenge.bin\n",
            "copying zaxxon.bin from ROMS/Zaxxon (1983) (Coleco) (2454) ~.bin to /usr/local/lib/python3.7/dist-packages/atari_py/atari_roms/zaxxon.bin\n"
          ]
        }
      ]
    },
    {
      "cell_type": "code",
      "metadata": {
        "colab": {
          "base_uri": "https://localhost:8080/"
        },
        "id": "XteteFvQb3bA",
        "outputId": "b63c715d-4400-4bf4-867b-ed427fea2c73"
      },
      "source": [
        "from baselines.common.atari_wrappers import make_atari, wrap_deepmind\n",
        "###from stable_baselines3.common.env_util import make_atari_env\n",
        "import numpy as np\n",
        "import tensorflow as tf\n",
        "from tensorflow import keras\n",
        "from tensorflow.keras import layers\n",
        "\n",
        "# Configuration paramaters for the whole setup\n",
        "seed = 42\n",
        "gamma = 0.98  # Discount factor for past rewards ###.99\n",
        "epsilon = .6  # Epsilon greedy parameter ###1\n",
        "epsilon_min = 0.1  # Minimum epsilon greedy parameter\n",
        "epsilon_max = 1.0  # Maximum epsilon greedy parameter\n",
        "epsilon_interval = (\n",
        "    epsilon_max - epsilon_min\n",
        ")  # Rate at which to reduce chance of random action being taken\n",
        "batch_size = 32  # Size of batch taken from replay buffer\n",
        "max_steps_per_episode = 10000\n",
        "\n",
        "# Use the Baseline Atari environment because of Deepmind helper functions\n",
        "env = make_atari(\"BreakoutNoFrameskip-v4\")\n",
        "# Warp the frames, grey scale, stake four frame and scale to smaller ratio\n",
        "env = wrap_deepmind(env, frame_stack=True, scale=True)\n",
        "env.seed(seed)"
      ],
      "execution_count": 6,
      "outputs": [
        {
          "output_type": "execute_result",
          "data": {
            "text/plain": [
              "[42, 742738649]"
            ]
          },
          "metadata": {},
          "execution_count": 6
        }
      ]
    },
    {
      "cell_type": "markdown",
      "metadata": {
        "id": "v2yFgWULb3bB"
      },
      "source": [
        "## Implement the Deep Q-Network\n",
        "\n",
        "This network learns an approximation of the Q-table, which is a mapping between\n",
        "the states and actions that an agent will take. For every state we'll have four\n",
        "actions, that can be taken. The environment provides the state, and the action\n",
        "is chosen by selecting the larger of the four Q-values predicted in the output layer."
      ]
    },
    {
      "cell_type": "code",
      "metadata": {
        "id": "N4ApX3YJb3bC"
      },
      "source": [
        "num_actions = 4\n",
        "\n",
        "\n",
        "def create_q_model():\n",
        "    # Network defined by the Deepmind paper\n",
        "    inputs = layers.Input(shape=(84, 84, 4,))\n",
        "\n",
        "    # Convolutions on the frames on the screen\n",
        "    layer1 = layers.Conv2D(32, 8, strides=4, activation=\"relu\")(inputs)\n",
        "    layer2 = layers.Conv2D(64, 4, strides=2, activation=\"relu\")(layer1)\n",
        "    layer3 = layers.Conv2D(64, 3, strides=1, activation=\"relu\")(layer2)\n",
        "\n",
        "    layer4 = layers.Flatten()(layer3)\n",
        "\n",
        "    layer5 = layers.Dense(512, activation=\"relu\")(layer4)\n",
        "    action = layers.Dense(num_actions, activation=\"linear\")(layer5)\n",
        "\n",
        "    return keras.Model(inputs=inputs, outputs=action)\n",
        "\n",
        "\n",
        "# The first model makes the predictions for Q-values which are used to\n",
        "# make a action.\n",
        "model = create_q_model()\n",
        "# Build a target model for the prediction of future rewards.\n",
        "# The weights of a target model get updated every 10000 steps thus when the\n",
        "# loss between the Q-values is calculated the target Q-value is stable.\n",
        "model_target = create_q_model()\n"
      ],
      "execution_count": 7,
      "outputs": []
    },
    {
      "cell_type": "markdown",
      "metadata": {
        "id": "tD5d95yDb3bC"
      },
      "source": [
        "## Train"
      ]
    },
    {
      "cell_type": "code",
      "metadata": {
        "id": "FikEtEb4rKNW"
      },
      "source": [
        "#Uncomment to load stored weights of trained agent.\n",
        "weights_path = '/content/drive/MyDrive/Colab Notebooks/deepq_weights.h5'\n",
        "model.load_weights(weights_path)#,save_format='h5')\n",
        "model_target.load_weights(weights_path)#,save_format='h5')"
      ],
      "execution_count": 8,
      "outputs": []
    },
    {
      "cell_type": "code",
      "metadata": {
        "colab": {
          "base_uri": "https://localhost:8080/",
          "height": 489
        },
        "id": "GhG9KhUvb3bD",
        "outputId": "5485f78e-395c-45a7-fe25-4c6c84788418"
      },
      "source": [
        "# In the Deepmind paper they use RMSProp however then Adam optimizer\n",
        "# improves training time\n",
        "optimizer = keras.optimizers.Adam(learning_rate=0.00025, clipnorm=1.0)\n",
        "\n",
        "# Experience replay buffers\n",
        "action_history = []\n",
        "state_history = []\n",
        "state_next_history = []\n",
        "rewards_history = []\n",
        "done_history = []\n",
        "episode_reward_history = []\n",
        "running_reward = 0\n",
        "episode_count = 0\n",
        "frame_count = 0\n",
        "# Number of frames to take random action and observe output\n",
        "epsilon_random_frames = 0 ### was 50000\n",
        "# Number of frames for exploration\n",
        "epsilon_greedy_frames = 500000 ### was 1000000\n",
        "# Maximum replay length\n",
        "# Note: The Deepmind paper suggests 1000000 however this causes memory issues\n",
        "max_memory_length = 100000\n",
        "# Train the model after 4 actions\n",
        "update_after_actions = 4\n",
        "# How often to update the target network\n",
        "update_target_network = 10000\n",
        "# Using huber loss for stability\n",
        "loss_function = keras.losses.Huber()\n",
        "\n",
        "while True:  # Run until solved\n",
        "    state = np.array(env.reset())\n",
        "    episode_reward = 0\n",
        "\n",
        "    for timestep in range(1, max_steps_per_episode):\n",
        "        #env.render(); \n",
        "        #Adding this line would show the attempts\n",
        "        # of the agent in a pop up window.\n",
        "        frame_count += 1\n",
        "\n",
        "        # Use epsilon-greedy for exploration\n",
        "        if frame_count < epsilon_random_frames or epsilon > np.random.rand(1)[0]:\n",
        "            # Take random action\n",
        "            action = np.random.choice(num_actions)\n",
        "        else:\n",
        "            # Predict action Q-values\n",
        "            # From environment state\n",
        "            state_tensor = tf.convert_to_tensor(state)\n",
        "            state_tensor = tf.expand_dims(state_tensor, 0)\n",
        "            action_probs = model(state_tensor, training=False)\n",
        "            # Take best action\n",
        "            action = tf.argmax(action_probs[0]).numpy()\n",
        "\n",
        "        # Decay probability of taking random action\n",
        "        epsilon -= epsilon_interval / epsilon_greedy_frames\n",
        "        epsilon = max(epsilon, epsilon_min)\n",
        "\n",
        "        # Apply the sampled action in our environment\n",
        "        state_next, reward, done, _ = env.step(action)\n",
        "        state_next = np.array(state_next)\n",
        "\n",
        "        episode_reward += reward\n",
        "\n",
        "        # Save actions and states in replay buffer\n",
        "        action_history.append(action)\n",
        "        state_history.append(state)\n",
        "        state_next_history.append(state_next)\n",
        "        done_history.append(done)\n",
        "        rewards_history.append(reward)\n",
        "        state = state_next\n",
        "\n",
        "        # Update every fourth frame and once batch size is over 32\n",
        "        if frame_count % update_after_actions == 0 and len(done_history) > batch_size:\n",
        "\n",
        "            # Get indices of samples for replay buffers\n",
        "            indices = np.random.choice(range(len(done_history)), size=batch_size)\n",
        "\n",
        "            # Using list comprehension to sample from replay buffer\n",
        "            state_sample = np.array([state_history[i] for i in indices])\n",
        "            state_next_sample = np.array([state_next_history[i] for i in indices])\n",
        "            rewards_sample = [rewards_history[i] for i in indices]\n",
        "            action_sample = [action_history[i] for i in indices]\n",
        "            done_sample = tf.convert_to_tensor(\n",
        "                [float(done_history[i]) for i in indices]\n",
        "            )\n",
        "\n",
        "            # Build the updated Q-values for the sampled future states\n",
        "            # Use the target model for stability\n",
        "            future_rewards = model_target.predict(state_next_sample)\n",
        "            # Q value = reward + discount factor * expected future reward\n",
        "            updated_q_values = rewards_sample + gamma * tf.reduce_max(\n",
        "                future_rewards, axis=1\n",
        "            )\n",
        "\n",
        "            # If final frame set the last value to -1\n",
        "            updated_q_values = updated_q_values * (1 - done_sample) - done_sample\n",
        "\n",
        "            # Create a mask so we only calculate loss on the updated Q-values\n",
        "            masks = tf.one_hot(action_sample, num_actions)\n",
        "\n",
        "            with tf.GradientTape() as tape:\n",
        "                # Train the model on the states and updated Q-values\n",
        "                q_values = model(state_sample)\n",
        "\n",
        "                # Apply the masks to the Q-values to get the Q-value for action taken\n",
        "                q_action = tf.reduce_sum(tf.multiply(q_values, masks), axis=1)\n",
        "                # Calculate loss between new Q-value and old Q-value\n",
        "                loss = loss_function(updated_q_values, q_action)\n",
        "\n",
        "            # Backpropagation\n",
        "            grads = tape.gradient(loss, model.trainable_variables)\n",
        "            optimizer.apply_gradients(zip(grads, model.trainable_variables))\n",
        "\n",
        "        if frame_count % update_target_network == 0:\n",
        "            # update the the target network with new weights\n",
        "            model_target.set_weights(model.get_weights())\n",
        "            # Log details\n",
        "            template = \"running reward: {:.2f} at episode {}, frame count {}\"\n",
        "            print(template.format(running_reward, episode_count, frame_count))\n",
        "\n",
        "        ### save weights every 10000 frames\n",
        "        if frame_count % 10000 == 0:\n",
        "            model.save_weights(weights_path,save_format='h5')\n",
        "\n",
        "\n",
        "        # Limit the state and reward history\n",
        "        if len(rewards_history) > max_memory_length:\n",
        "            del rewards_history[:1]\n",
        "            del state_history[:1]\n",
        "            del state_next_history[:1]\n",
        "            del action_history[:1]\n",
        "            del done_history[:1]\n",
        "\n",
        "        if done:\n",
        "            break\n",
        "\n",
        "    # Update running reward to check condition for solving\n",
        "    episode_reward_history.append(episode_reward)\n",
        "    if len(episode_reward_history) > 100:\n",
        "        del episode_reward_history[:1]\n",
        "    running_reward = np.mean(episode_reward_history)\n",
        "    \n",
        "    ###\n",
        "    if episode_count % 50 == 0:\n",
        "        print('episode:',episode_count, 'running_reward:',running_reward)\n",
        "\n",
        "    episode_count += 1\n",
        "\n",
        "    if running_reward > 10:  # Condition to consider the task solved\n",
        "        print(\"Solved at episode {}!\".format(episode_count))\n",
        "        break"
      ],
      "execution_count": 9,
      "outputs": [
        {
          "output_type": "stream",
          "name": "stdout",
          "text": [
            "episode: 0 running_reward: 1.0\n",
            "episode: 50 running_reward: 0.803921568627451\n",
            "episode: 100 running_reward: 0.83\n"
          ]
        },
        {
          "output_type": "error",
          "ename": "KeyboardInterrupt",
          "evalue": "ignored",
          "traceback": [
            "\u001b[0;31m---------------------------------------------------------------------------\u001b[0m",
            "\u001b[0;31mKeyboardInterrupt\u001b[0m                         Traceback (most recent call last)",
            "\u001b[0;32m<ipython-input-9-7809080bbb64>\u001b[0m in \u001b[0;36m<module>\u001b[0;34m()\u001b[0m\n\u001b[1;32m    107\u001b[0m \u001b[0;34m\u001b[0m\u001b[0m\n\u001b[1;32m    108\u001b[0m             \u001b[0;31m# Backpropagation\u001b[0m\u001b[0;34m\u001b[0m\u001b[0;34m\u001b[0m\u001b[0;34m\u001b[0m\u001b[0m\n\u001b[0;32m--> 109\u001b[0;31m             \u001b[0mgrads\u001b[0m \u001b[0;34m=\u001b[0m \u001b[0mtape\u001b[0m\u001b[0;34m.\u001b[0m\u001b[0mgradient\u001b[0m\u001b[0;34m(\u001b[0m\u001b[0mloss\u001b[0m\u001b[0;34m,\u001b[0m \u001b[0mmodel\u001b[0m\u001b[0;34m.\u001b[0m\u001b[0mtrainable_variables\u001b[0m\u001b[0;34m)\u001b[0m\u001b[0;34m\u001b[0m\u001b[0;34m\u001b[0m\u001b[0m\n\u001b[0m\u001b[1;32m    110\u001b[0m             \u001b[0moptimizer\u001b[0m\u001b[0;34m.\u001b[0m\u001b[0mapply_gradients\u001b[0m\u001b[0;34m(\u001b[0m\u001b[0mzip\u001b[0m\u001b[0;34m(\u001b[0m\u001b[0mgrads\u001b[0m\u001b[0;34m,\u001b[0m \u001b[0mmodel\u001b[0m\u001b[0;34m.\u001b[0m\u001b[0mtrainable_variables\u001b[0m\u001b[0;34m)\u001b[0m\u001b[0;34m)\u001b[0m\u001b[0;34m\u001b[0m\u001b[0;34m\u001b[0m\u001b[0m\n\u001b[1;32m    111\u001b[0m \u001b[0;34m\u001b[0m\u001b[0m\n",
            "\u001b[0;32m/usr/local/lib/python3.7/dist-packages/tensorflow/python/eager/backprop.py\u001b[0m in \u001b[0;36mgradient\u001b[0;34m(self, target, sources, output_gradients, unconnected_gradients)\u001b[0m\n\u001b[1;32m   1088\u001b[0m         \u001b[0moutput_gradients\u001b[0m\u001b[0;34m=\u001b[0m\u001b[0moutput_gradients\u001b[0m\u001b[0;34m,\u001b[0m\u001b[0;34m\u001b[0m\u001b[0;34m\u001b[0m\u001b[0m\n\u001b[1;32m   1089\u001b[0m         \u001b[0msources_raw\u001b[0m\u001b[0;34m=\u001b[0m\u001b[0mflat_sources_raw\u001b[0m\u001b[0;34m,\u001b[0m\u001b[0;34m\u001b[0m\u001b[0;34m\u001b[0m\u001b[0m\n\u001b[0;32m-> 1090\u001b[0;31m         unconnected_gradients=unconnected_gradients)\n\u001b[0m\u001b[1;32m   1091\u001b[0m \u001b[0;34m\u001b[0m\u001b[0m\n\u001b[1;32m   1092\u001b[0m     \u001b[0;32mif\u001b[0m \u001b[0;32mnot\u001b[0m \u001b[0mself\u001b[0m\u001b[0;34m.\u001b[0m\u001b[0m_persistent\u001b[0m\u001b[0;34m:\u001b[0m\u001b[0;34m\u001b[0m\u001b[0;34m\u001b[0m\u001b[0m\n",
            "\u001b[0;32m/usr/local/lib/python3.7/dist-packages/tensorflow/python/eager/imperative_grad.py\u001b[0m in \u001b[0;36mimperative_grad\u001b[0;34m(tape, target, sources, output_gradients, sources_raw, unconnected_gradients)\u001b[0m\n\u001b[1;32m     75\u001b[0m       \u001b[0moutput_gradients\u001b[0m\u001b[0;34m,\u001b[0m\u001b[0;34m\u001b[0m\u001b[0;34m\u001b[0m\u001b[0m\n\u001b[1;32m     76\u001b[0m       \u001b[0msources_raw\u001b[0m\u001b[0;34m,\u001b[0m\u001b[0;34m\u001b[0m\u001b[0;34m\u001b[0m\u001b[0m\n\u001b[0;32m---> 77\u001b[0;31m       compat.as_str(unconnected_gradients.value))\n\u001b[0m",
            "\u001b[0;32m/usr/local/lib/python3.7/dist-packages/tensorflow/python/eager/backprop.py\u001b[0m in \u001b[0;36m_gradient_function\u001b[0;34m(op_name, attr_tuple, num_inputs, inputs, outputs, out_grads, skip_input_indices, forward_pass_name_scope)\u001b[0m\n\u001b[1;32m    157\u001b[0m       \u001b[0mgradient_name_scope\u001b[0m \u001b[0;34m+=\u001b[0m \u001b[0mforward_pass_name_scope\u001b[0m \u001b[0;34m+\u001b[0m \u001b[0;34m\"/\"\u001b[0m\u001b[0;34m\u001b[0m\u001b[0;34m\u001b[0m\u001b[0m\n\u001b[1;32m    158\u001b[0m     \u001b[0;32mwith\u001b[0m \u001b[0mops\u001b[0m\u001b[0;34m.\u001b[0m\u001b[0mname_scope\u001b[0m\u001b[0;34m(\u001b[0m\u001b[0mgradient_name_scope\u001b[0m\u001b[0;34m)\u001b[0m\u001b[0;34m:\u001b[0m\u001b[0;34m\u001b[0m\u001b[0;34m\u001b[0m\u001b[0m\n\u001b[0;32m--> 159\u001b[0;31m       \u001b[0;32mreturn\u001b[0m \u001b[0mgrad_fn\u001b[0m\u001b[0;34m(\u001b[0m\u001b[0mmock_op\u001b[0m\u001b[0;34m,\u001b[0m \u001b[0;34m*\u001b[0m\u001b[0mout_grads\u001b[0m\u001b[0;34m)\u001b[0m\u001b[0;34m\u001b[0m\u001b[0;34m\u001b[0m\u001b[0m\n\u001b[0m\u001b[1;32m    160\u001b[0m   \u001b[0;32melse\u001b[0m\u001b[0;34m:\u001b[0m\u001b[0;34m\u001b[0m\u001b[0;34m\u001b[0m\u001b[0m\n\u001b[1;32m    161\u001b[0m     \u001b[0;32mreturn\u001b[0m \u001b[0mgrad_fn\u001b[0m\u001b[0;34m(\u001b[0m\u001b[0mmock_op\u001b[0m\u001b[0;34m,\u001b[0m \u001b[0;34m*\u001b[0m\u001b[0mout_grads\u001b[0m\u001b[0;34m)\u001b[0m\u001b[0;34m\u001b[0m\u001b[0;34m\u001b[0m\u001b[0m\n",
            "\u001b[0;32m/usr/local/lib/python3.7/dist-packages/tensorflow/python/ops/nn_grad.py\u001b[0m in \u001b[0;36m_Conv2DGrad\u001b[0;34m(op, grad)\u001b[0m\n\u001b[1;32m    598\u001b[0m           \u001b[0mexplicit_paddings\u001b[0m\u001b[0;34m=\u001b[0m\u001b[0mexplicit_paddings\u001b[0m\u001b[0;34m,\u001b[0m\u001b[0;34m\u001b[0m\u001b[0;34m\u001b[0m\u001b[0m\n\u001b[1;32m    599\u001b[0m           \u001b[0muse_cudnn_on_gpu\u001b[0m\u001b[0;34m=\u001b[0m\u001b[0muse_cudnn_on_gpu\u001b[0m\u001b[0;34m,\u001b[0m\u001b[0;34m\u001b[0m\u001b[0;34m\u001b[0m\u001b[0m\n\u001b[0;32m--> 600\u001b[0;31m           data_format=data_format)\n\u001b[0m\u001b[1;32m    601\u001b[0m   ]\n\u001b[1;32m    602\u001b[0m \u001b[0;34m\u001b[0m\u001b[0m\n",
            "\u001b[0;32m/usr/local/lib/python3.7/dist-packages/tensorflow/python/ops/gen_nn_ops.py\u001b[0m in \u001b[0;36mconv2d_backprop_filter\u001b[0;34m(input, filter_sizes, out_backprop, strides, padding, use_cudnn_on_gpu, explicit_paddings, data_format, dilations, name)\u001b[0m\n\u001b[1;32m   1082\u001b[0m         \u001b[0;34m\"strides\"\u001b[0m\u001b[0;34m,\u001b[0m \u001b[0mstrides\u001b[0m\u001b[0;34m,\u001b[0m \u001b[0;34m\"use_cudnn_on_gpu\"\u001b[0m\u001b[0;34m,\u001b[0m \u001b[0muse_cudnn_on_gpu\u001b[0m\u001b[0;34m,\u001b[0m \u001b[0;34m\"padding\"\u001b[0m\u001b[0;34m,\u001b[0m\u001b[0;34m\u001b[0m\u001b[0;34m\u001b[0m\u001b[0m\n\u001b[1;32m   1083\u001b[0m         \u001b[0mpadding\u001b[0m\u001b[0;34m,\u001b[0m \u001b[0;34m\"explicit_paddings\"\u001b[0m\u001b[0;34m,\u001b[0m \u001b[0mexplicit_paddings\u001b[0m\u001b[0;34m,\u001b[0m \u001b[0;34m\"data_format\"\u001b[0m\u001b[0;34m,\u001b[0m\u001b[0;34m\u001b[0m\u001b[0;34m\u001b[0m\u001b[0m\n\u001b[0;32m-> 1084\u001b[0;31m         data_format, \"dilations\", dilations)\n\u001b[0m\u001b[1;32m   1085\u001b[0m       \u001b[0;32mreturn\u001b[0m \u001b[0m_result\u001b[0m\u001b[0;34m\u001b[0m\u001b[0;34m\u001b[0m\u001b[0m\n\u001b[1;32m   1086\u001b[0m     \u001b[0;32mexcept\u001b[0m \u001b[0m_core\u001b[0m\u001b[0;34m.\u001b[0m\u001b[0m_NotOkStatusException\u001b[0m \u001b[0;32mas\u001b[0m \u001b[0me\u001b[0m\u001b[0;34m:\u001b[0m\u001b[0;34m\u001b[0m\u001b[0;34m\u001b[0m\u001b[0m\n",
            "\u001b[0;31mKeyboardInterrupt\u001b[0m: "
          ]
        }
      ]
    },
    {
      "cell_type": "code",
      "metadata": {
        "id": "VlWddQik0N4G"
      },
      "source": [
        "model.save_weights(weights_path,save_format='h5')"
      ],
      "execution_count": 17,
      "outputs": []
    },
    {
      "cell_type": "code",
      "metadata": {
        "id": "RgMRG5dZJxUS"
      },
      "source": [
        "#Evaluate agents performance, in a number of games\n",
        "def evaluate(env, model, n_games=1, greedy=False, t_max=10000):\n",
        "    \"\"\" Plays n_games full games. If greedy, picks actions as argmax(qvalues). Returns mean reward. \"\"\"\n",
        "    rewards = []\n",
        "    s = env.reset()\n",
        "    for _ in range(n_games):\n",
        "        reward = 0\n",
        "        for _ in range(t_max):\n",
        "            s.__array__() ###convert LazyFrames to array\n",
        "            s = s[np.newaxis,...] ###add a dimesion with Nones\n",
        "            qvalues = model(tf.convert_to_tensor(s)) ### convert array to tensor\n",
        "            #print(qvalues,tf.math.argmax(qvalues[0]))\n",
        "            action = tf.math.argmax(qvalues[0]) # if greedy else agent.sample_actions(qvalues)[0]\n",
        "            s, r, done, _ = env.step(action)\n",
        "         \n",
        "            reward += r\n",
        "            if done: \n",
        "              s = env.reset()\n",
        "              break\n",
        "          \n",
        "        \n",
        "        rewards.append(reward)\n",
        "    return np.mean(rewards)"
      ],
      "execution_count": 71,
      "outputs": []
    },
    {
      "cell_type": "code",
      "metadata": {
        "colab": {
          "base_uri": "https://localhost:8080/"
        },
        "id": "rUhKLYeWYu5N",
        "outputId": "84bcf192-4361-4f46-ef6c-1f95438818a0"
      },
      "source": [
        "env.reset()\n",
        "env.step(1)"
      ],
      "execution_count": 32,
      "outputs": [
        {
          "output_type": "execute_result",
          "data": {
            "text/plain": [
              "(<baselines.common.atari_wrappers.LazyFrames at 0x7efc6372ac10>,\n",
              " 0.0,\n",
              " False,\n",
              " {'ale.lives': 5})"
            ]
          },
          "metadata": {},
          "execution_count": 32
        }
      ]
    },
    {
      "cell_type": "code",
      "metadata": {
        "colab": {
          "base_uri": "https://localhost:8080/"
        },
        "id": "nQHEfd9sZMZE",
        "outputId": "bcc3491c-58cb-44b8-d8f3-4df06d432fea"
      },
      "source": [
        "s.__array__().shape"
      ],
      "execution_count": 47,
      "outputs": [
        {
          "output_type": "execute_result",
          "data": {
            "text/plain": [
              "(84, 84, 4, 1)"
            ]
          },
          "metadata": {},
          "execution_count": 47
        }
      ]
    },
    {
      "cell_type": "code",
      "metadata": {
        "id": "zo8SM6b5eAGH"
      },
      "source": [
        "s= s[..., np.newaxis]"
      ],
      "execution_count": 42,
      "outputs": []
    },
    {
      "cell_type": "code",
      "metadata": {
        "colab": {
          "base_uri": "https://localhost:8080/"
        },
        "id": "_qImJ_MJeVQK",
        "outputId": "825a36a6-dce4-40ad-8e47-ab3d0411f556"
      },
      "source": [
        "s.shape"
      ],
      "execution_count": 43,
      "outputs": [
        {
          "output_type": "execute_result",
          "data": {
            "text/plain": [
              "(84, 84, 4, 1)"
            ]
          },
          "metadata": {},
          "execution_count": 43
        }
      ]
    },
    {
      "cell_type": "code",
      "metadata": {
        "id": "7p-YLoRVKhmH"
      },
      "source": [
        "# used in cell below to record videos.  Same as code above when environment originally created\n",
        "def make_env():\n",
        "  # Use the Baseline Atari environment because of Deepmind helper functions\n",
        "  env = make_atari(\"BreakoutNoFrameskip-v4\")\n",
        "  # Warp the frames, grey scale, stake four frame and scale to smaller ratio\n",
        "  env = wrap_deepmind(env, frame_stack=True, scale=True)\n",
        "  env.seed(seed)\n"
      ],
      "execution_count": 12,
      "outputs": []
    },
    {
      "cell_type": "code",
      "metadata": {
        "id": "xNFF3V5nJ825"
      },
      "source": [
        "#record session on a video\n",
        "import gym.wrappers\n",
        "#configure directory to store videos\n",
        "env_monitor = gym.wrappers.Monitor(env,directory=\"videos\",force=True)\n",
        "\n",
        "\n",
        "#use my weights\n",
        "#agent.network.load_weights(weights_path)\n",
        "#agent.network.load_weights('/content/drive/MyDrive/Colab Notebooks/dqn_model_atari_weights_60-120k.h5')\n",
        "\n",
        "###Range was set to 1.  was that one frame?\n",
        "sessions = [evaluate(env_monitor, model, n_games=1) for _ in range(1)]\n",
        "env_monitor.close()\n",
        "\n",
        "#Videos are saved in videos folder and can be downloaded\n",
        "#env_monitor.directory"
      ],
      "execution_count": 76,
      "outputs": []
    },
    {
      "cell_type": "code",
      "metadata": {
        "colab": {
          "base_uri": "https://localhost:8080/",
          "height": 36
        },
        "id": "LskcR___gaBZ",
        "outputId": "1970a9a3-2c42-4ecd-fa1f-cbb3ca6e31e1"
      },
      "source": [
        "env_monitor.directory"
      ],
      "execution_count": 66,
      "outputs": [
        {
          "output_type": "execute_result",
          "data": {
            "application/vnd.google.colaboratory.intrinsic+json": {
              "type": "string"
            },
            "text/plain": [
              "'/content/baselines/videos'"
            ]
          },
          "metadata": {},
          "execution_count": 66
        }
      ]
    },
    {
      "cell_type": "markdown",
      "metadata": {
        "id": "vxv4ex0Tb3bD"
      },
      "source": [
        "## Visualizations\n",
        "Before any training:\n",
        "![Imgur](https://i.imgur.com/rRxXF4H.gif)\n",
        "\n",
        "In early stages of training:\n",
        "![Imgur](https://i.imgur.com/X8ghdpL.gif)\n",
        "\n",
        "In later stages of training:\n",
        "![Imgur](https://i.imgur.com/Z1K6qBQ.gif)"
      ]
    }
  ]
}